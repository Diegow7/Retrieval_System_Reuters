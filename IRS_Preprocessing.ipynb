{
 "cells": [
  {
   "cell_type": "markdown",
   "metadata": {},
   "source": [
    "# Proyecto Bimestral: Sistema de Recuperaci´on de Información basado en Reuters-21578\n",
    "## 1. Introducción\n",
    "El objetivo de este proyecto es diseñar, construir, programar y desplegar un Sistema de Recuperación de Información (SRI) utilizando el corpus Reuters-21578.\n",
    "## 2. Fases del Proyecto\n",
    "###  2.1. Adquisición de datos\n",
    "\n",
    "*   Descargar el Corpus Reuters-21578\n",
    "*   Descomprimir y organizar los archivos\n",
    "*   Documentar el proceso de adquisición de datos"
   ]
  },
  {
   "cell_type": "markdown",
   "metadata": {},
   "source": [
    "![Descripción de la imagen](images/corpus_reuters.jpg)"
   ]
  },
  {
   "cell_type": "markdown",
   "metadata": {},
   "source": [
    "#### Descarga y análisis inicial del corpus\n",
    "\n",
    "1. El archivo comprimido fue descargado y descomprimido en una carpeta local vinculada a un repositorio de GitHub.\n",
    "2. Posteriormente, se analizó el contenido del corpus, obteniendo los siguientes resultados:\n",
    "   - **Carpeta `test`**: Contiene 3019 archivos.\n",
    "   - **Carpeta `training`**: Contiene 7769 archivos.\n",
    "   - **Archivo `cats`**: Incluye las categorías.\n",
    "   - **Archivo `readme`**: Proporciona información general sobre el corpus.\n",
    "   - **Archivo `stopwords`**: Contiene una lista de palabras vacías."
   ]
  },
  {
   "cell_type": "markdown",
   "metadata": {},
   "source": [
    "#### Librerias y Dependencias necesarias"
   ]
  },
  {
   "cell_type": "markdown",
   "metadata": {},
   "source": [
    "#### Notas"
   ]
  },
  {
   "cell_type": "markdown",
   "metadata": {},
   "source": [
    "Al no encontrarnos en un entorno de Google Colab, sino en VS, nos basta con ejecutar una sola vez el comando `!pip install rarfile` para tener la biblioteca `rarfile` en nuestro entorno."
   ]
  },
  {
   "cell_type": "code",
   "execution_count": 27,
   "metadata": {},
   "outputs": [],
   "source": [
    "#!pip install rarfile"
   ]
  },
  {
   "cell_type": "markdown",
   "metadata": {},
   "source": [
    "Al no encontrarnos en un entorno de Google Colab, sino en VS, nos basta con ejecutar una sola vez el comando `!pip install nltk` para tener la biblioteca `nltk` en nuestro entorno."
   ]
  },
  {
   "cell_type": "code",
   "execution_count": 29,
   "metadata": {},
   "outputs": [],
   "source": [
    "#!pip install nltk"
   ]
  },
  {
   "cell_type": "markdown",
   "metadata": {},
   "source": [
    "El comando `pip install scikit-learn` instala la librería `scikit-learn`, que es una herramienta para realizar tareas de aprendizaje automático (machine learning) como clasificación, regresión y clustering."
   ]
  },
  {
   "cell_type": "code",
   "execution_count": 17,
   "metadata": {},
   "outputs": [],
   "source": [
    "#pip install scikit-learn"
   ]
  },
  {
   "cell_type": "markdown",
   "metadata": {},
   "source": [
    "El comando `pip install gensim` instala la librería `gensim`, que se utiliza para el procesamiento de texto y la creación de modelos de aprendizaje automático, como Word2Vec, para generar representaciones vectoriales de palabras."
   ]
  },
  {
   "cell_type": "code",
   "execution_count": 19,
   "metadata": {},
   "outputs": [],
   "source": [
    "#pip install gensim"
   ]
  },
  {
   "cell_type": "code",
   "execution_count": 52,
   "metadata": {},
   "outputs": [],
   "source": [
    "# Librerias necesarias\n",
    "import os\n",
    "import re\n",
    "import nltk\n",
    "import rarfile\n",
    "import time # Evaluar tecnicas de vectorización\n",
    "import psutil # Evaluar tecnicas de vectorización\n",
    "import gc # Evaluar tecnicas de vectorización\n",
    "import numpy as np\n",
    "from collections import defaultdict # Para el indice invertido\n",
    "from nltk.tokenize import word_tokenize\n",
    "from nltk.stem import PorterStemmer\n",
    "from sklearn.feature_extraction.text import CountVectorizer, TfidfVectorizer\n",
    "from gensim.models import Word2Vec\n",
    "from sklearn.metrics.pairwise import cosine_similarity"
   ]
  },
  {
   "cell_type": "markdown",
   "metadata": {},
   "source": [
    "### 2.2. Preprocesamiento"
   ]
  },
  {
   "cell_type": "markdown",
   "metadata": {},
   "source": [
    "#### 2.2.1. Extraer el contenido relevante de los documentos"
   ]
  },
  {
   "cell_type": "code",
   "execution_count": 19,
   "metadata": {},
   "outputs": [
    {
     "name": "stdout",
     "output_type": "stream",
     "text": [
      "Archivos extraídos:\n",
      "['reuters']\n"
     ]
    }
   ],
   "source": [
    "rarfile.UNRAR_TOOL = r\"D:\\UnRAR\\UnRAR.exe\" # Cambiar por ubicación local de tu herramienta UNRAR\n",
    "\n",
    "# Ruta del archivo .rar\n",
    "rar_path = 'material/reuters.rar'\n",
    "output_dir = 'material/content'\n",
    "\n",
    "# Crear el directorio de salida si no existe\n",
    "os.makedirs(output_dir, exist_ok=True)\n",
    "\n",
    "# Descomprimir el archivo .rar\n",
    "with rarfile.RarFile(rar_path) as rf:\n",
    "    rf.extractall(output_dir)\n",
    "\n",
    "# Verificar que se haya descomprimido correctamente\n",
    "print(\"Archivos extraídos:\")\n",
    "print(os.listdir(output_dir))"
   ]
  },
  {
   "cell_type": "code",
   "execution_count": 2,
   "metadata": {},
   "outputs": [],
   "source": [
    "# Directorios de documentos\n",
    "train_dir = 'material/content/reuters/training'\n",
    "test_dir = 'material/content/reuters/test'\n",
    "cats_file = 'material/content/reuters/cats.txt'\n",
    "\n",
    "# Diccionario para almacenar documentos\n",
    "documentos = {}\n",
    "\n",
    "# Función para extraer contenido de un archivo de noticias\n",
    "def extraer_texto(filepath):\n",
    "    try:\n",
    "        with open(filepath, 'r', encoding='latin-1') as file:\n",
    "            contenido = file.read()\n",
    "            texto_limpio = contenido.strip()  # Elimina espacios en blanco iniciales y finales\n",
    "            return texto_limpio\n",
    "    except Exception as e:\n",
    "        print(f\"Error al leer el archivo {filepath}: {e}\")\n",
    "        return \"\"\n",
    "\n",
    "# Función para cargar las categorías de los documentos\n",
    "def cargar_categorias(filepath):\n",
    "    categorias = {}\n",
    "    try:\n",
    "        with open(filepath, 'r', encoding='latin-1') as file:\n",
    "            for linea in file:\n",
    "                partes = linea.strip().split()  # Divide la línea en partes separadas por espacios\n",
    "                if len(partes) >= 2:\n",
    "                    doc_id = partes[0]  # Primer elemento es el id del documento (test/14826, training/1)\n",
    "                    etiquetas = partes[1:]  # Resto de elementos son categorías\n",
    "                    categorias[doc_id] = etiquetas\n",
    "    except Exception as e:\n",
    "        print(f\"Error al leer el archivo de categorías {filepath}: {e}\")\n",
    "    return categorias\n",
    "\n",
    "# Función para cargar los documentos y asociar categorías\n",
    "def cargar_documentos(directorio, tipo, categorias_dict):\n",
    "    archivos = os.listdir(directorio)\n",
    "    if not archivos:\n",
    "        print(f\"No se encontraron archivos en {directorio}\")\n",
    "    for archivo in archivos:\n",
    "        filepath = os.path.join(directorio, archivo)\n",
    "        doc_id = f\"{tipo}/{archivo}\"\n",
    "        texto = extraer_texto(filepath)\n",
    "        categorias = categorias_dict.get(doc_id, [])  # Obtener categorías, si no hay, devuelve lista vacía\n",
    "\n",
    "        # Almacenar en el diccionario\n",
    "        documentos[doc_id] = {\n",
    "            \"texto\": texto,\n",
    "            \"categorias\": categorias\n",
    "        }"
   ]
  },
  {
   "cell_type": "code",
   "execution_count": 3,
   "metadata": {},
   "outputs": [
    {
     "name": "stdout",
     "output_type": "stream",
     "text": [
      "Total de documentos cargados: 10788\n",
      "ID: training/1\n",
      "Texto: BAHIA COCOA REVIEW\n",
      "  Showers continued throughout the week in\n",
      "  the Bahia cocoa zone, alleviating the drought since early\n",
      "  January and improving prospects for the coming temporao,\n",
      "  although normal humidity levels have not been restored,\n",
      "  Comissaria Smith said in its weekly review.\n",
      "      The dry period means the temporao will be late this year.\n",
      "      Arrivals for the week ended February 22 were 155,221 bags\n",
      "  of 60 kilos making a cumulative total for the season of 5.93\n",
      "  mln against 5.81 at th...\n",
      "Categorías: ['cocoa']\n"
     ]
    }
   ],
   "source": [
    "# Cargar categorías\n",
    "categorias_dict = cargar_categorias(cats_file)\n",
    "\n",
    "# Cargar documentos de entrenamiento y prueba\n",
    "cargar_documentos(train_dir, 'training', categorias_dict)\n",
    "cargar_documentos(test_dir, 'test', categorias_dict)\n",
    "\n",
    "# Verificar el tamaño y algunas muestras\n",
    "print(f\"Total de documentos cargados: {len(documentos)}\")\n",
    "if documentos:\n",
    "    ejemplo_doc = list(documentos.items())[0]\n",
    "    print(f\"ID: {ejemplo_doc[0]}\")\n",
    "    print(f\"Texto: {ejemplo_doc[1]['texto'][:500]}...\")  # Mostrar los primeros 500 caracteres\n",
    "    print(f\"Categorías: {ejemplo_doc[1]['categorias']}\")\n",
    "else:\n",
    "    print(\"No se cargaron documentos.\")"
   ]
  },
  {
   "cell_type": "markdown",
   "metadata": {},
   "source": [
    "#### 2.2.2. Realizar limpieza de datos: eliminación de caracteres no deseados, normalización de texto, etc."
   ]
  },
  {
   "cell_type": "code",
   "execution_count": 4,
   "metadata": {},
   "outputs": [],
   "source": [
    "# Función para limpiar texto\n",
    "def limpiar_texto(texto):\n",
    "    # 1. Conversión a minúsculas\n",
    "    texto = texto.lower()\n",
    "\n",
    "    # 2. Eliminación de caracteres especiales y números\n",
    "    texto = re.sub(r'[^a-z\\s]', '', texto)\n",
    "\n",
    "    # 3. Eliminación de espacios extra\n",
    "    texto = re.sub(r'\\s+', ' ', texto).strip()\n",
    "\n",
    "    return texto"
   ]
  },
  {
   "cell_type": "code",
   "execution_count": 5,
   "metadata": {},
   "outputs": [
    {
     "name": "stdout",
     "output_type": "stream",
     "text": [
      "ID: training/1\n",
      "Texto limpio: bahia cocoa review showers continued throughout the week in the bahia cocoa zone alleviating the drought since early january and improving prospects for the coming temporao although normal humidity levels have not been restored comissaria smith said in its weekly review the dry period means the temporao will be late this year arrivals for the week ended february were bags of kilos making a cumulative total for the season of mln against at the same stage last year again it seems that cocoa delive...\n"
     ]
    }
   ],
   "source": [
    "# Aplicar limpieza de texto a todos los documentos\n",
    "for doc_id in documentos:\n",
    "    texto_original = documentos[doc_id]['texto']\n",
    "    texto_limpio = limpiar_texto(texto_original)\n",
    "\n",
    "    # Actualizar el texto limpio en el diccionario\n",
    "    documentos[doc_id]['texto'] = texto_limpio\n",
    "\n",
    "# Verificar el resultado de la limpieza en un documento de ejemplo\n",
    "ejemplo_doc = list(documentos.items())[0]\n",
    "print(f\"ID: {ejemplo_doc[0]}\")\n",
    "print(f\"Texto limpio: {ejemplo_doc[1]['texto'][:500]}...\")"
   ]
  },
  {
   "cell_type": "markdown",
   "metadata": {},
   "source": [
    "#### 2.2.3. Tokenización: dividir el texto en palabras o tokens"
   ]
  },
  {
   "cell_type": "markdown",
   "metadata": {},
   "source": [
    "#### Nota\n",
    "Al no encontrarnos en un entorno de Google Colab, sino en VS, nos basta con ejecutar una sola vez el comando `nltk.download('punkt')` o `nltk.download('punkt_tab')`, por lo cual no es necesario volver a ejcutarlo."
   ]
  },
  {
   "cell_type": "code",
   "execution_count": 46,
   "metadata": {},
   "outputs": [],
   "source": [
    "# Descargar los recursos necesarios de NLTK para tokenizar texto en oraciones y palabras\n",
    "#nltk.download('punkt')\n",
    "#nltk.download('punkt_tab')"
   ]
  },
  {
   "cell_type": "code",
   "execution_count": 6,
   "metadata": {},
   "outputs": [],
   "source": [
    "# Función para tokenizar texto\n",
    "def tokenizar_texto(texto):\n",
    "    # Utilizamos word_tokenize de NLTK para dividir en tokens\n",
    "    tokens = word_tokenize(texto)\n",
    "    return tokens"
   ]
  },
  {
   "cell_type": "code",
   "execution_count": 7,
   "metadata": {},
   "outputs": [
    {
     "name": "stdout",
     "output_type": "stream",
     "text": [
      "ID: training/1\n",
      "Tokens: ['bahia', 'cocoa', 'review', 'showers', 'continued', 'throughout', 'the', 'week', 'in', 'the', 'bahia', 'cocoa', 'zone', 'alleviating', 'the', 'drought', 'since', 'early', 'january', 'and']...\n"
     ]
    }
   ],
   "source": [
    "# Aplicar tokenización a todos los documentos\n",
    "for doc_id in documentos:\n",
    "    texto_limpio = documentos[doc_id]['texto']\n",
    "    tokens = tokenizar_texto(texto_limpio)\n",
    "\n",
    "    # Guardamos los tokens en el diccionario\n",
    "    documentos[doc_id]['tokens'] = tokens\n",
    "\n",
    "# Verificar el resultado de la tokenización en un documento de ejemplo\n",
    "ejemplo_doc = list(documentos.items())[0]\n",
    "print(f\"ID: {ejemplo_doc[0]}\")\n",
    "print(f\"Tokens: {ejemplo_doc[1]['tokens'][:20]}...\")"
   ]
  },
  {
   "cell_type": "markdown",
   "metadata": {},
   "source": [
    "#### 2.2.4. Eliminar stop words y  aplicar stemming o lematización."
   ]
  },
  {
   "cell_type": "code",
   "execution_count": 8,
   "metadata": {},
   "outputs": [
    {
     "name": "stdout",
     "output_type": "stream",
     "text": [
      "Ejemplo de Stop Words cargadas: ['anybody', 'etc', 'wants', 'howbeit', 'have', \"i'm\", \"it'd\", 'ltd', 'considering', 'hopefully']\n"
     ]
    }
   ],
   "source": [
    "# Cargar el archivo de stopwords proporcionado\n",
    "ruta_stopwords = 'material/content/reuters/stopwords'\n",
    "stopwords_personalizadas = set()\n",
    "\n",
    "with open(ruta_stopwords, 'r') as archivo:\n",
    "    for linea in archivo:\n",
    "        palabra = linea.strip()  # Removemos espacios y saltos de línea\n",
    "        if palabra:  # Evitamos añadir líneas vacías\n",
    "            stopwords_personalizadas.add(palabra.lower())\n",
    "\n",
    "# Verificamos algunas stop words cargadas\n",
    "print(\"Ejemplo de Stop Words cargadas:\", list(stopwords_personalizadas)[:10])"
   ]
  },
  {
   "cell_type": "code",
   "execution_count": 9,
   "metadata": {},
   "outputs": [
    {
     "name": "stdout",
     "output_type": "stream",
     "text": [
      "ID: training/1\n",
      "Tokens sin Stop Words: ['bahia', 'cocoa', 'review', 'showers', 'continued', 'week', 'bahia', 'cocoa', 'zone', 'alleviating', 'drought', 'early', 'january', 'improving', 'prospects', 'coming', 'temporao', 'normal', 'humidity', 'levels']...\n"
     ]
    }
   ],
   "source": [
    "# Función para eliminar stop words de los tokens\n",
    "def eliminar_stopwords(tokens, stopwords):\n",
    "    # Filtramos los tokens que no están en la lista de stopwords\n",
    "    tokens_filtrados = [token for token in tokens if token.lower() not in stopwords]\n",
    "    return tokens_filtrados\n",
    "\n",
    "# Aplicamos la eliminación de stop words a cada documento\n",
    "for doc_id in documentos:\n",
    "    tokens = documentos[doc_id]['tokens']\n",
    "    tokens_sin_stopwords = eliminar_stopwords(tokens, stopwords_personalizadas)\n",
    "\n",
    "    # Guardamos los tokens filtrados\n",
    "    documentos[doc_id]['tokens'] = tokens_sin_stopwords\n",
    "\n",
    "# Verificar el resultado después de eliminar stop words en un documento de ejemplo\n",
    "ejemplo_doc = list(documentos.items())[0]\n",
    "print(f\"ID: {ejemplo_doc[0]}\")\n",
    "print(f\"Tokens sin Stop Words: {ejemplo_doc[1]['tokens'][:20]}...\")"
   ]
  },
  {
   "cell_type": "markdown",
   "metadata": {},
   "source": [
    "#### Nota\n",
    "Para nuestro caso de estudio y aplicación de este proyecto, aplicaremos **Steming**. \n",
    "\n",
    "Como equipo, consideramos más eficiente en términos de recursos porque el stemming utiliza reglas más simples y rápidas para reducir las palabras a su raíz, mientras que la lemmatización requiere un procesamiento más complejo y el uso de diccionarios para obtener la forma base correcta de las palabras."
   ]
  },
  {
   "cell_type": "code",
   "execution_count": 10,
   "metadata": {},
   "outputs": [],
   "source": [
    "# Inicializar el stemmer\n",
    "stemmer = PorterStemmer()\n",
    "\n",
    "# Función para aplicar stemming a los tokens de un documento\n",
    "def aplicar_stemming(tokens):\n",
    "    return [stemmer.stem(token) for token in tokens]"
   ]
  },
  {
   "cell_type": "code",
   "execution_count": 11,
   "metadata": {},
   "outputs": [
    {
     "name": "stdout",
     "output_type": "stream",
     "text": [
      "ID: training/1\n",
      "Tokens con Stemming: ['bahia', 'cocoa', 'review', 'shower', 'continu', 'week', 'bahia', 'cocoa', 'zone', 'allevi', 'drought', 'earli', 'januari', 'improv', 'prospect', 'come', 'temporao', 'normal', 'humid', 'level']...\n"
     ]
    }
   ],
   "source": [
    "# Aplicamos el stemming a los tokens de cada documento\n",
    "for doc_id in documentos:\n",
    "    tokens = documentos[doc_id]['tokens']  # Obtiene los tokens del documento\n",
    "    tokens_stemmed = aplicar_stemming(tokens)  # Aplica el stemming\n",
    "    documentos[doc_id]['tokens'] = tokens_stemmed  # Guarda los tokens procesados\n",
    "\n",
    "# Verificamos un documento de ejemplo después del stemming\n",
    "ejemplo_doc = list(documentos.items())[0]\n",
    "print(f\"ID: {ejemplo_doc[0]}\")\n",
    "print(f\"Tokens con Stemming: {ejemplo_doc[1]['tokens'][:20]}...\")"
   ]
  },
  {
   "cell_type": "markdown",
   "metadata": {},
   "source": [
    "### 2.3.  Representación de Datos en Espacio Vectorial"
   ]
  },
  {
   "cell_type": "markdown",
   "metadata": {},
   "source": [
    "#### 2.3.1. Utilizar técnicas como Bag of Words (BoW), TF-IDF, y Word2Vec."
   ]
  },
  {
   "cell_type": "code",
   "execution_count": null,
   "metadata": {},
   "outputs": [
    {
     "name": "stdout",
     "output_type": "stream",
     "text": [
      "Características (Palabras) BoW: ['aa' 'aaa' 'aabex' 'aachen' 'aaminu' 'aancor' 'aap' 'aaplu' 'aar'\n",
      " 'aarnoud']...\n",
      "Forma de la matriz BoW: (10788, 26004)\n"
     ]
    }
   ],
   "source": [
    "# Crear un objeto de CountVectorizer\n",
    "vectorizer = CountVectorizer()\n",
    "\n",
    "# Obtener las palabras de los documentos (usando los textos limpios después de eliminar stopwords y stemming)\n",
    "documentos_texto = [\" \".join(doc[\"tokens\"]) for doc in documentos.values()]\n",
    "\n",
    "# Ajustar el modelo y transformar los documentos\n",
    "X_bow = vectorizer.fit_transform(documentos_texto)\n",
    "\n",
    "# Mostrar las características (palabras)\n",
    "print(f\"Características (Palabras) BoW: {vectorizer.get_feature_names_out()[:10]}...\")  # Mostrar las primeras 10 palabras\n",
    "\n",
    "# Mostrar la matriz de términos de frecuencia\n",
    "print(f\"Forma de la matriz BoW: {X_bow.shape}\")"
   ]
  },
  {
   "cell_type": "code",
   "execution_count": null,
   "metadata": {},
   "outputs": [
    {
     "name": "stdout",
     "output_type": "stream",
     "text": [
      "Características (Palabras) TF-IDF: ['aa' 'aaa' 'aabex' 'aachen' 'aaminu' 'aancor' 'aap' 'aaplu' 'aar'\n",
      " 'aarnoud']...\n",
      "Forma de la matriz TF-IDF: (10788, 26004)\n"
     ]
    }
   ],
   "source": [
    "# Crear el objeto TfidfVectorizer\n",
    "tfidf_vectorizer = TfidfVectorizer()\n",
    "\n",
    "# Ajustar y transformar los documentos\n",
    "X_tfidf = tfidf_vectorizer.fit_transform(documentos_texto)\n",
    "\n",
    "# Mostrar las características (palabras)\n",
    "print(f\"Características (Palabras) TF-IDF: {tfidf_vectorizer.get_feature_names_out()[:10]}...\")  # Primeras 10 palabras\n",
    "\n",
    "# Mostrar la matriz de TF-IDF\n",
    "print(f\"Forma de la matriz TF-IDF: {X_tfidf.shape}\")"
   ]
  },
  {
   "cell_type": "code",
   "execution_count": 34,
   "metadata": {},
   "outputs": [
    {
     "name": "stdout",
     "output_type": "stream",
     "text": [
      "Dimensiones del vector Word2Vec: (100,)\n"
     ]
    }
   ],
   "source": [
    "# Entrenamiento del modelo Word2Vec\n",
    "model_w2v = Word2Vec(sentences=[doc[\"tokens\"] for doc in documentos.values()], vector_size=100, window=5, min_count=1, workers=4)\n",
    "\n",
    "# Función para obtener el vector medio de un documento\n",
    "def obtener_vector_promedio(tokens, model):\n",
    "    # Extraer los vectores de las palabras, promediarlos y retornar el vector\n",
    "    vectores = [model.wv[token] for token in tokens if token in model.wv]\n",
    "    if vectores:\n",
    "        return np.mean(vectores, axis=0)\n",
    "    else:\n",
    "        return np.zeros(model.vector_size)  # Devuelve un vector cero si no hay palabras del vocabulario en el modelo\n",
    "\n",
    "# Obtener los vectores para cada documento\n",
    "documentos_w2v = {}\n",
    "for doc_id, doc in documentos.items():\n",
    "    vector_promedio = obtener_vector_promedio(doc['tokens'], model_w2v)\n",
    "    documentos_w2v[doc_id] = vector_promedio\n",
    "\n",
    "# Verificar el tamaño de los vectores\n",
    "print(f\"Dimensiones del vector Word2Vec: {documentos_w2v[next(iter(documentos_w2v))].shape}\")"
   ]
  },
  {
   "cell_type": "markdown",
   "metadata": {},
   "source": [
    "#### 2.3.2. Evaluar las diferentes técnicas de vectorización."
   ]
  },
  {
   "cell_type": "code",
   "execution_count": 35,
   "metadata": {},
   "outputs": [
    {
     "name": "stdout",
     "output_type": "stream",
     "text": [
      "Evaluación BoW: Tiempo = 0.7460 segundos, Memoria = 16.37 MB\n",
      "Evaluación TF-IDF: Tiempo = 1.0121 segundos, Memoria = 18.30 MB\n",
      "Evaluación Word2Vec: Tiempo = 6.5960 segundos, Memoria = 2.48 MB\n"
     ]
    },
    {
     "data": {
      "text/plain": [
       "0"
      ]
     },
     "execution_count": 35,
     "metadata": {},
     "output_type": "execute_result"
    }
   ],
   "source": [
    "# Función para medir el tiempo y la memoria\n",
    "def medir_tiempo_memoria(func):\n",
    "    # Medir el tiempo de ejecución\n",
    "    start_time = time.time()\n",
    "    \n",
    "    # Medir la memoria antes de ejecutar\n",
    "    proceso = psutil.Process()\n",
    "    memoria_inicial = proceso.memory_info().rss  # Memoria en bytes\n",
    "    \n",
    "    # Ejecutar la función\n",
    "    result = func()\n",
    "    \n",
    "    # Medir el tiempo y la memoria después de ejecutar\n",
    "    end_time = time.time()\n",
    "    memoria_final = proceso.memory_info().rss\n",
    "    memoria_utilizada = memoria_final - memoria_inicial\n",
    "    \n",
    "    # Calcular tiempo de ejecución\n",
    "    tiempo_ejecucion = end_time - start_time\n",
    "    \n",
    "    return tiempo_ejecucion, memoria_utilizada, result\n",
    "\n",
    "# Evaluar BoW (Bag of Words)\n",
    "def evaluar_bow():\n",
    "    vectorizer = CountVectorizer()\n",
    "    X_bow = vectorizer.fit_transform(documentos_texto)\n",
    "    return X_bow\n",
    "\n",
    "# Evaluar TF-IDF\n",
    "def evaluar_tfidf():\n",
    "    tfidf_vectorizer = TfidfVectorizer()\n",
    "    X_tfidf = tfidf_vectorizer.fit_transform(documentos_texto)\n",
    "    return X_tfidf\n",
    "\n",
    "# Evaluar Word2Vec\n",
    "def evaluar_word2vec():\n",
    "    model_w2v = Word2Vec(sentences=[doc[\"tokens\"] for doc in documentos.values()], vector_size=100, window=5, min_count=1, workers=4)\n",
    "    def obtener_vector_promedio(tokens, model):\n",
    "        vectores = [model.wv[token] for token in tokens if token in model.wv]\n",
    "        if vectores:\n",
    "            return np.mean(vectores, axis=0)\n",
    "        else:\n",
    "            return np.zeros(model.vector_size)\n",
    "    documentos_w2v = {doc_id: obtener_vector_promedio(doc['tokens'], model_w2v) for doc_id, doc in documentos.items()}\n",
    "    return documentos_w2v\n",
    "\n",
    "# Evaluar cada técnica\n",
    "tiempo_bow, memoria_bow, _ = medir_tiempo_memoria(evaluar_bow)\n",
    "tiempo_tfidf, memoria_tfidf, _ = medir_tiempo_memoria(evaluar_tfidf)\n",
    "tiempo_w2v, memoria_w2v, _ = medir_tiempo_memoria(evaluar_word2vec)\n",
    "\n",
    "# Mostrar los resultados\n",
    "print(f\"Evaluación BoW: Tiempo = {tiempo_bow:.4f} segundos, Memoria = {memoria_bow / (1024 * 1024):.2f} MB\")\n",
    "print(f\"Evaluación TF-IDF: Tiempo = {tiempo_tfidf:.4f} segundos, Memoria = {memoria_tfidf / (1024 * 1024):.2f} MB\")\n",
    "print(f\"Evaluación Word2Vec: Tiempo = {tiempo_w2v:.4f} segundos, Memoria = {memoria_w2v / (1024 * 1024):.2f} MB\")\n",
    "\n",
    "# Limpiar memoria\n",
    "gc.collect()"
   ]
  },
  {
   "cell_type": "markdown",
   "metadata": {},
   "source": [
    "#### Conclusión de la Evaluación\n",
    "\n",
    "- **BoW** es la técnica más rápida en términos de tiempo de ejecución y requiere una cantidad moderada de memoria para procesar los documentos. Por lo tanto, es la opción más eficiente en tiempo y memoria, ideal para aplicaciones que necesitan rapidez.\n",
    "- **TF-IDF**, aunque es un poco más lento que BoW y consume algo más de memoria, ofrece un buen equilibrio entre rendimiento y precisión. Esto se debe a que calcula pesos adicionales para las palabras, lo que incrementa el tiempo de procesamiento y la memoria.\n",
    "- **Word2Vec**, a pesar de usar menos memoria, tiene un tiempo de ejecución significativamente mayor. Esto se debe a que entrena un modelo de vectores de palabras, lo que es más costoso computacionalmente. Es más lento, pero resulta más robusto y preciso, especialmente cuando se necesita capturar relaciones semánticas entre las palabras.\n"
   ]
  },
  {
   "cell_type": "markdown",
   "metadata": {},
   "source": [
    "### 2.4.  Indexación "
   ]
  },
  {
   "cell_type": "markdown",
   "metadata": {},
   "source": [
    "#### 2.4.1.  Construir un Índice invertido que mapee términos a documentos."
   ]
  },
  {
   "cell_type": "code",
   "execution_count": 39,
   "metadata": {},
   "outputs": [
    {
     "name": "stdout",
     "output_type": "stream",
     "text": [
      "Término: 'bahia' -> Documentos: {'training/11459', 'training/11911', 'test/17568', 'training/1', 'test/16071', 'test/15580', 'training/13462'}\n",
      "Término: 'cocoa' -> Documentos: {'training/12340', 'test/17568', 'test/19500', 'training/10491', 'test/18221', 'training/10586', 'training/6493', 'test/15179', 'training/8326', 'training/4147', 'training/8850', 'training/10619', 'training/13462', 'training/10505', 'test/18014', 'training/5258', 'training/5168', 'training/10742', 'training/6407', 'training/7367', 'training/12763', 'training/11811', 'test/17499', 'training/7071', 'training/12355', 'test/16148', 'training/11459', 'test/20005', 'test/21525', 'training/9953', 'training/5192', 'training/6128', 'training/10471', 'training/10760', 'training/1', 'training/9450', 'test/16098', 'test/19570', 'training/10584', 'test/17664', 'test/18222', 'training/8961', 'training/4564', 'training/10014', 'training/11341', 'training/10122', 'training/9903', 'training/4470', 'test/19358', 'test/17707', 'training/10506', 'training/275', 'training/11462', 'training/11224', 'training/3225', 'training/1889', 'training/10449', 'training/3190', 'training/2521', 'training/6414', 'training/10403', 'training/7311', 'training/5382', 'test/15095', 'training/12813', 'training/14418', 'training/13271', 'test/15653', 'training/5880', 'test/17984', 'training/10613', 'training/8978', 'test/17733', 'training/5598', 'training/11843', 'training/5491', 'training/9559', 'training/3310'}\n",
      "Término: 'review' -> Documentos: {'training/2511', 'training/2793', 'training/3454', 'training/6557', 'training/874', 'training/11970', 'test/16513', 'test/19955', 'training/6503', 'training/10531', 'training/10423', 'test/18987', 'training/5177', 'test/15060', 'test/17443', 'training/5643', 'test/16278', 'test/19505', 'training/7940', 'training/3421', 'training/8598', 'training/13462', 'training/8106', 'training/13243', 'test/17896', 'training/14220', 'training/6876', 'training/7253', 'training/436', 'training/9445', 'test/17886', 'training/342', 'test/19654', 'training/6158', 'training/5258', 'training/12848', 'training/6217', 'training/9667', 'training/6598', 'test/17810', 'training/682', 'training/2951', 'training/247', 'training/8130', 'test/17963', 'training/8608', 'test/17986', 'training/5517', 'test/19432', 'training/7937', 'training/7308', 'training/8205', 'training/11386', 'training/1210', 'training/11265', 'training/7596', 'test/20787', 'training/2359', 'test/17036', 'training/5655', 'training/5290', 'training/10780', 'training/2783', 'training/11273', 'training/5176', 'training/9277', 'training/9971', 'training/6846', 'test/15253', 'training/5627', 'training/12423', 'training/1848', 'training/2128', 'training/6595', 'training/6606', 'training/8716', 'training/12771', 'test/15568', 'training/8117', 'training/13908', 'training/9733', 'training/7001', 'training/8060', 'training/8186', 'test/18991', 'test/18996', 'test/18686', 'training/14126', 'test/18621', 'training/5690', 'training/3292', 'training/1', 'training/9138', 'training/311', 'training/5335', 'training/11191', 'training/4405', 'test/18667', 'test/15656', 'training/9450', 'training/9283', 'test/17574', 'training/9892', 'training/6791', 'training/9793', 'training/5286', 'training/10048', 'test/21408', 'training/3711', 'training/3748', 'training/409', 'test/18985', 'training/4043', 'training/7796', 'test/20008', 'training/8606', 'test/19367', 'training/6410', 'training/8982', 'training/496', 'training/6873', 'training/843', 'test/20462', 'training/6438', 'training/6939', 'training/11209', 'test/17927', 'training/3154', 'training/10918', 'training/10784', 'test/16564', 'test/17478', 'training/6068', 'training/3916', 'training/8134', 'training/8961', 'training/3589', 'test/17714', 'test/17876', 'training/2219', 'test/18034', 'test/19781', 'training/4277', 'training/11281', 'training/5291', 'test/19947', 'test/21535', 'training/13054', 'training/3157', 'training/1148', 'test/18811', 'training/3013', 'training/8080', 'training/7872', 'training/3577', 'test/16006', 'test/21046', 'test/19000', 'test/21411', 'test/18145', 'training/2777', 'training/11224', 'training/1466', 'training/4824', 'training/2095', 'training/2500', 'training/8676', 'training/6400', 'training/9216', 'training/12011', 'test/15394', 'training/10181', 'training/6578', 'training/11327', 'training/248', 'test/16071', 'test/19128', 'test/19713', 'test/19065', 'training/5139', 'training/13274', 'test/21061', 'training/6060', 'training/10786', 'training/7311', 'training/13046', 'training/10676', 'training/4080', 'training/7907', 'test/15552', 'test/17894', 'test/18104', 'training/7950', 'training/6726', 'test/19285', 'training/5541', 'training/372', 'training/8252', 'training/180', 'training/5382', 'training/2271', 'training/5558', 'training/8198', 'training/8438', 'training/2383', 'test/17929', 'test/14829', 'training/6935', 'training/7304', 'test/18924', 'training/6085', 'training/393', 'training/712', 'test/16257', 'training/11882', 'training/6912', 'training/1579', 'test/18595', 'training/236', 'training/2764', 'training/3413', 'test/21202', 'training/5070', 'training/9382', 'training/10985', 'test/21469', 'training/237', 'training/9907', 'training/11285', 'training/1735', 'training/6746', 'test/16029', 'training/3795', 'training/11086', 'training/8098', 'training/4806', 'training/3336', 'training/5318', 'test/20465', 'training/9472', 'training/4429', 'test/16925', 'training/11717', 'training/5542'}\n",
      "Término: 'shower' -> Documentos: {'training/6153', 'test/19262', 'training/10388', 'training/1', 'training/6114', 'training/11536', 'training/8705', 'test/15043', 'training/6142'}\n",
      "Término: 'continu' -> Documentos: {'training/2542', 'test/15742', 'training/8131', 'training/498', 'test/15484', 'test/20868', 'test/18252', 'test/21473', 'training/1675', 'training/13136', 'training/3574', 'training/11587', 'training/11714', 'training/5750', 'training/1263', 'test/18604', 'training/11243', 'test/16926', 'training/11844', 'training/930', 'test/21557', 'training/5706', 'training/5643', 'training/4431', 'training/730', 'training/9149', 'training/1616', 'test/15810', 'training/346', 'test/21251', 'training/903', 'test/20511', 'training/10659', 'training/3056', 'training/8933', 'training/6876', 'test/17766', 'test/18920', 'training/10830', 'training/915', 'test/19654', 'test/19968', 'training/11160', 'training/6158', 'training/12732', 'training/4290', 'training/8664', 'training/9967', 'test/20441', 'training/6315', 'test/19998', 'training/6473', 'test/20262', 'training/1414', 'training/2228', 'training/2697', 'training/3463', 'training/4266', 'training/7937', 'training/2727', 'training/10080', 'training/2747', 'training/1444', 'training/3531', 'training/7566', 'training/7366', 'training/6215', 'training/7408', 'test/14959', 'training/6593', 'training/13949', 'training/5171', 'test/17993', 'test/15871', 'training/12146', 'training/3520', 'training/6317', 'training/11763', 'training/11936', 'training/3798', 'training/14587', 'training/5290', 'training/685', 'test/14881', 'training/7135', 'training/7902', 'training/9604', 'test/17048', 'training/8943', 'training/5523', 'training/9641', 'training/3080', 'test/14975', 'test/21321', 'training/8349', 'training/3024', 'test/16177', 'test/20071', 'test/17950', 'training/11507', 'test/18086', 'training/12772', 'training/11450', 'training/867', 'training/11374', 'test/16723', 'test/16023', 'training/7698', 'training/1029', 'training/1607', 'training/179', 'test/17873', 'training/14199', 'training/10066', 'training/2725', 'training/2357', 'test/14984', 'test/15932', 'test/18185', 'training/6590', 'training/1980', 'training/6722', 'test/19453', 'training/197', 'test/18575', 'training/6844', 'training/7796', 'training/7521', 'training/9915', 'training/5888', 'training/5190', 'test/15263', 'training/7917', 'training/8630', 'training/10743', 'training/7625', 'test/16483', 'test/19159', 'training/5471', 'test/20396', 'training/10618', 'training/8855', 'training/6068', 'training/3645', 'training/5095', 'training/4548', 'training/9393', 'test/16252', 'test/15349', 'test/15624', 'training/5752', 'training/5895', 'test/21535', 'test/14911', 'training/7704', 'training/13023', 'training/9470', 'test/15450', 'training/8022', 'training/303', 'training/9403', 'test/20013', 'training/6346', 'training/14698', 'training/1477', 'training/856', 'training/7443', 'test/20982', 'training/10658', 'training/5947', 'training/8188', 'training/10106', 'test/18917', 'training/3646', 'training/4818', 'test/16162', 'training/10181', 'training/4101', 'training/11327', 'training/1889', 'test/19556', 'training/12487', 'training/1347', 'training/3893', 'training/11734', 'training/2993', 'training/5563', 'training/1620', 'training/2768', 'training/7075', 'training/12394', 'training/3263', 'training/3532', 'test/16095', 'test/17507', 'training/5323', 'test/18095', 'training/10904', 'training/13046', 'training/4343', 'training/5396', 'training/10255', 'training/8088', 'training/10654', 'training/220', 'training/896', 'training/10702', 'test/19285', 'training/2838', 'training/441', 'training/2012', 'test/20991', 'test/21512', 'training/922', 'training/6914', 'training/253', 'training/7304', 'training/3380', 'test/20080', 'training/3149', 'training/7742', 'training/8044', 'test/16144', 'test/16158', 'test/21303', 'training/742', 'training/5271', 'training/11007', 'training/1811', 'test/18177', 'training/8055', 'training/3429', 'training/13105', 'training/10774', 'training/1269', 'training/5408', 'training/4603', 'training/8441', 'training/1588', 'training/13060', 'training/11203', 'training/5786', 'training/11717', 'training/3163', 'training/5542', 'training/11330', 'training/8595', 'training/9891', 'training/6276', 'test/16320', 'training/5127', 'training/2428', 'training/2449', 'training/748', 'test/15270', 'training/7013', 'training/7218', 'test/20079', 'training/4953', 'training/12573', 'test/17700', 'test/19028', 'training/6406', 'test/18146', 'training/7964', 'training/9668', 'training/6546', 'training/2246', 'training/3640', 'training/4133', 'test/17551', 'training/345', 'training/8074', 'test/17896', 'training/10505', 'training/10807', 'test/16621', 'training/227', 'training/3564', 'training/23', 'training/11161', 'training/8063', 'training/9853', 'training/14340', 'training/13266', 'training/8971', 'training/9770', 'training/5255', 'training/5338', 'training/9869', 'test/16354', 'test/16875', 'training/8111', 'training/12768', 'training/12917', 'training/3420', 'training/11753', 'training/12815', 'test/16737', 'training/2948', 'training/6063', 'test/16076', 'test/19557', 'training/5769', 'training/7576', 'training/6037', 'training/10902', 'training/8000', 'training/10696', 'training/11774', 'training/5176', 'training/6719', 'test/19377', 'test/18176', 'training/3997', 'training/8716', 'training/12771', 'training/10546', 'training/11377', 'training/123', 'training/5192', 'training/9088', 'training/11726', 'test/20469', 'test/16226', 'training/9764', 'training/8039', 'test/18642', 'training/8518', 'test/21506', 'test/15162', 'training/2971', 'test/15656', 'training/6434', 'training/10832', 'training/6836', 'test/18625', 'test/18564', 'test/16093', 'training/14389', 'training/3329', 'training/2737', 'training/10', 'test/16310', 'training/11523', 'test/18213', 'training/5827', 'training/1434', 'training/843', 'test/15444', 'training/10748', 'training/12002', 'training/9521', 'training/5717', 'test/16788', 'training/938', 'test/14852', 'test/19986', 'training/6177', 'training/8799', 'test/20925', 'test/20012', 'test/20021', 'training/11198', 'training/13179', 'training/11752', 'test/17780', 'test/18599', 'training/6632', 'test/19769', 'training/10695', 'test/15194', 'training/12986', 'training/5193', 'training/4944', 'training/13037', 'training/9761', 'test/19762', 'training/12159', 'test/21076', 'training/275', 'training/6927', 'training/889', 'training/4810', 'test/16176', 'test/15386', 'training/12883', 'test/15396', 'training/12249', 'test/16118', 'test/15617', 'training/9603', 'test/16112', 'training/10520', 'training/5667', 'training/10174', 'training/4573', 'training/3183', 'training/56', 'training/7539', 'test/16909', 'test/18849', 'training/11739', 'training/200', 'training/3524', 'training/5852', 'training/12083', 'training/7725', 'training/12191', 'training/11468', 'training/5352', 'training/5737', 'test/15527', 'test/19471', 'training/3007', 'test/20231', 'training/6886', 'training/2061', 'training/12878', 'test/14993', 'training/2965', 'test/19136', 'training/11322', 'training/3206', 'training/10473', 'training/8820', 'training/11953', 'training/6085', 'test/16495', 'training/5453', 'training/5808', 'training/3372', 'training/4630', 'training/3302', 'training/1579', 'training/4097', 'training/8430', 'training/11083', 'test/20869', 'training/10593', 'training/3137', 'training/9734', 'training/9203', 'training/562', 'training/14485', 'training/8135', 'training/8962', 'training/2269', 'training/1428', 'test/21323', 'test/21040', 'training/3077', 'training/249', 'training/11551', 'training/4602', 'training/14623', 'training/9087', 'test/18280', 'test/19882', 'test/15666', 'test/15639', 'training/4713', 'training/921', 'training/1909', 'training/12743', 'training/3267', 'test/18024', 'training/3051', 'test/21013', 'training/6357', 'test/20865', 'test/15549', 'training/12337', 'training/4536', 'training/11118', 'training/2326', 'training/5177', 'test/15979', 'training/6959', 'training/9701', 'test/15060', 'training/10246', 'training/5746', 'training/10701', 'training/9213', 'training/10388', 'training/955', 'training/9337', 'test/16278', 'training/12428', 'training/2307', 'test/15352', 'training/11314', 'training/12754', 'training/11939', 'test/15375', 'test/20230', 'training/5896', 'training/2968', 'training/3028', 'training/12848', 'training/1099', 'test/15696', 'training/402', 'training/7605', 'training/12788', 'test/17863', 'training/9699', 'training/12842', 'training/6657', 'training/1211', 'training/2618', 'test/16727', 'test/16706', 'training/1379', 'test/20348', 'training/6737', 'test/16336', 'training/10230', 'test/20787', 'training/2596', 'training/10641', 'training/1306', 'training/8902', 'training/5473', 'test/18519', 'training/10209', 'training/2783', 'training/4771', 'training/9048', 'training/12355', 'training/2741', 'test/17877', 'test/14933', 'test/15219', 'training/3084', 'training/6413', 'training/12760', 'training/5423', 'training/11459', 'training/10841', 'training/1848', 'test/15641', 'training/2924', 'test/20005', 'training/733', 'training/9952', 'training/1112', 'training/11949', 'training/3593', 'training/5787', 'test/15478', 'training/4662', 'training/11839', 'training/2775', 'training/3330', 'training/3846', 'training/13199', 'training/10640', 'training/4636', 'training/8757', 'test/17923', 'test/19262', 'training/13649', 'test/15240', 'training/11867', 'test/18017', 'test/15452', 'training/14354', 'training/13543', 'test/16175', 'training/2087', 'test/18009', 'training/9793', 'training/5286', 'training/998', 'training/11932', 'training/1816', 'training/8113', 'training/894', 'training/7626', 'training/3937', 'training/2979', 'training/2116', 'test/18930', 'training/10219', 'training/6121', 'test/18488', 'training/3043', 'training/8621', 'training/6376', 'training/11029', 'training/12858', 'training/1193', 'training/13174', 'training/1498', 'test/16765', 'training/2219', 'test/16264', 'test/20216', 'training/13633', 'test/21387', 'test/17871', 'training/3918', 'training/12390', 'training/6030', 'training/10617', 'training/7310', 'training/8623', 'training/1246', 'test/16099', 'training/1388', 'training/3364', 'training/8479', 'training/11722', 'training/5273', 'test/16611', 'test/17618', 'training/1886', 'test/15798', 'training/6034', 'training/4223', 'training/4824', 'training/8342', 'training/3440', 'test/21002', 'training/12059', 'training/2881', 'test/21006', 'training/10341', 'training/272', 'training/2521', 'test/15043', 'test/15063', 'training/3743', 'test/21210', 'test/17960', 'training/13261', 'test/15511', 'training/6101', 'training/4392', 'training/5206', 'test/18658', 'test/18317', 'training/1213', 'training/4477', 'training/6928', 'training/10769', 'test/21486', 'training/11816', 'training/10661', 'training/8109', 'training/8105', 'training/435', 'training/2130', 'training/393', 'training/7391', 'training/2115', 'training/12160', 'training/6912', 'test/16577', 'training/273', 'test/17731', 'training/2728', 'training/6465', 'training/8746', 'training/2411', 'training/237', 'training/7433', 'training/12202', 'test/19055', 'training/13321', 'test/15107', 'training/2515', 'training/11843', 'training/10291', 'training/3540', 'training/203', 'training/7557', 'training/9582', 'training/8240', 'training/7166', 'test/16088', 'training/1718', 'test/19560', 'training/2511', 'training/875', 'test/16430', 'training/11783', 'training/7662', 'training/9617', 'training/10531', 'training/5366', 'training/5167', 'training/13115', 'test/14912', 'training/2173', 'training/2475', 'training/1996', 'training/4081', 'training/6153', 'test/19683', 'test/20981', 'training/11891', 'test/20168', 'training/4147', 'test/15264', 'training/7940', 'training/2492', 'test/20048', 'test/16853', 'training/259', 'training/14220', 'training/9535', 'training/2828', 'test/15573', 'training/14310', 'training/10555', 'training/3287', 'training/5168', 'training/6217', 'test/17448', 'training/3762', 'training/1499', 'test/18186', 'test/21287', 'test/19478', 'training/10373', 'training/1407', 'training/2203', 'training/13008', 'training/1582', 'test/20095', 'test/17479', 'test/18347', 'training/1312', 'training/4890', 'test/15988', 'training/6142', 'test/19918', 'test/20087', 'training/2359', 'training/2006', 'training/2983', 'training/6732', 'training/6253', 'training/3884', 'training/2916', 'training/5870', 'training/7287', 'training/7041', 'training/10703', 'training/1361', 'test/18257', 'training/945', 'test/18576', 'training/9628', 'training/10264', 'training/9657', 'training/1201', 'training/1994', 'training/5379', 'test/19509', 'training/5345', 'training/13258', 'test/18991', 'test/18996', 'training/3446', 'training/1429', 'training/1', 'training/6428', 'training/820', 'test/21539', 'training/5172', 'training/11711', 'training/4735', 'training/2742', 'training/10038', 'training/12550', 'training/4122', 'training/3777', 'training/8705', 'training/4781', 'training/9978', 'test/19751', 'test/17812', 'training/1272', 'training/9192', 'test/15691', 'training/9892', 'test/14967', 'training/1152', 'training/3711', 'training/8262', 'training/13247', 'training/7635', 'training/6811', 'test/20693', 'training/10648', 'training/7792', 'test/18050', 'training/7124', 'training/6873', 'training/2815', 'test/14921', 'test/20462', 'training/2226', 'training/7985', 'training/10095', 'test/20829', 'training/11071', 'training/3607', 'training/11706', 'test/16564', 'training/11863', 'test/19403', 'training/9799', 'training/3430', 'training/7499', 'training/9957', 'training/5113', 'training/5458', 'test/16759', 'training/8015', 'training/9170', 'training/10122', 'training/9129', 'test/15230', 'training/3563', 'test/17047', 'test/15345', 'training/6426', 'training/12818', 'training/11196', 'training/7872', 'training/8747', 'training/982', 'training/2791', 'training/5985', 'training/12389', 'training/9206', 'training/7901', 'training/11224', 'training/3472', 'test/16597', 'training/4345', 'training/12416', 'test/15110', 'test/18490', 'training/13185', 'training/7609', 'training/11253', 'training/3276', 'training/8976', 'test/20259', 'training/5850', 'training/12521', 'training/10826', 'training/12192', 'test/21556', 'training/6114', 'training/9833', 'training/7628', 'training/11852', 'training/6748', 'test/16367', 'training/5719', 'training/5833', 'training/11400', 'training/8438', 'training/7263', 'training/6770', 'test/17674', 'test/18924', 'training/12791', 'training/11882', 'training/5511', 'test/16108', 'training/3868', 'training/8541', 'training/9771', 'training/236', 'training/13256', 'test/18609', 'training/11536', 'training/11103', 'training/12418', 'training/9336', 'test/21469', 'test/18672', 'training/2278', 'training/7093', 'test/15817', 'training/3093', 'training/4429', 'training/11705', 'test/14826'}\n",
      "Término: 'week' -> Documentos: {'test/15742', 'test/20868', 'test/21473', 'training/12340', 'training/296', 'training/13159', 'training/4028', 'training/13269', 'training/80', 'test/15978', 'training/12442', 'training/4938', 'test/18604', 'test/21557', 'training/4458', 'training/1933', 'training/6349', 'training/11064', 'training/5340', 'training/5706', 'test/14988', 'test/15987', 'training/12559', 'training/12195', 'training/13270', 'training/1616', 'training/9149', 'test/15179', 'test/18873', 'test/19241', 'training/10659', 'training/3594', 'test/16680', 'training/2743', 'test/16752', 'training/714', 'training/5868', 'training/8085', 'test/15344', 'training/3371', 'training/6876', 'test/16265', 'training/10830', 'test/15033', 'training/6156', 'training/9667', 'training/12732', 'training/5445', 'training/8004', 'training/13062', 'training/3352', 'training/8094', 'training/11580', 'training/2228', 'training/2697', 'training/8865', 'training/7937', 'training/2441', 'training/9036', 'training/9201', 'test/15485', 'training/2652', 'training/9246', 'training/6603', 'training/7566', 'training/3135', 'training/835', 'training/1856', 'training/6215', 'training/8193', 'test/15989', 'training/2553', 'training/11272', 'training/138', 'training/8604', 'training/12780', 'training/8806', 'training/925', 'test/15871', 'training/14767', 'training/6317', 'training/11936', 'training/5290', 'training/10780', 'training/685', 'training/11826', 'test/21019', 'training/7135', 'training/12786', 'training/9604', 'training/5333', 'training/5627', 'training/7088', 'training/12423', 'training/5280', 'training/12801', 'training/8903', 'test/17980', 'training/12795', 'training/2744', 'training/3455', 'training/6339', 'training/1871', 'test/21321', 'training/9295', 'training/684', 'training/11507', 'training/2468', 'test/18086', 'training/12772', 'training/2175', 'training/6184', 'training/9065', 'training/9804', 'training/4910', 'test/15483', 'test/18306', 'training/12992', 'training/5315', 'test/18663', 'test/19431', 'training/8553', 'training/14199', 'training/2725', 'training/8010', 'test/19087', 'training/4039', 'test/21197', 'test/15932', 'training/8873', 'training/11514', 'training/11834', 'test/19373', 'training/1920', 'training/11490', 'training/2925', 'training/7796', 'training/5888', 'training/11387', 'training/6146', 'test/15462', 'test/19191', 'training/496', 'test/17701', 'training/109', 'training/5471', 'training/3903', 'training/5334', 'test/15532', 'test/16212', 'test/20396', 'training/4129', 'test/17562', 'training/5561', 'training/5778', 'training/5955', 'test/17876', 'training/11299', 'training/11091', 'test/17866', 'test/20038', 'test/16774', 'test/18345', 'training/6368', 'test/19473', 'training/11390', 'training/11030', 'training/12136', 'training/3483', 'training/12447', 'training/11399', 'training/1148', 'training/2729', 'training/3272', 'training/3013', 'test/15450', 'training/2872', 'training/5610', 'training/14757', 'training/14698', 'test/16143', 'training/3984', 'training/95', 'training/856', 'training/10081', 'training/6265', 'training/12281', 'training/2403', 'training/10752', 'training/2686', 'training/8168', 'training/3225', 'training/4533', 'training/78', 'training/10682', 'training/7101', 'test/15417', 'training/3282', 'test/14885', 'training/11734', 'training/3995', 'test/16074', 'training/9834', 'training/2768', 'training/94', 'training/12394', 'training/10079', 'test/16095', 'test/20649', 'training/5499', 'test/15384', 'training/4158', 'training/12875', 'training/3111', 'test/18095', 'training/13046', 'training/9172', 'test/20611', 'test/19285', 'test/17492', 'training/5858', 'training/11488', 'training/6486', 'training/9022', 'test/18865', 'test/21512', 'training/6914', 'training/3122', 'training/253', 'training/3380', 'training/2696', 'training/353', 'training/12823', 'training/8044', 'training/10107', 'training/12907', 'training/7927', 'training/3356', 'test/16856', 'training/8578', 'training/1440', 'training/10156', 'training/11007', 'test/20127', 'training/13130', 'test/18035', 'test/16745', 'training/12396', 'training/7512', 'test/16851', 'training/12480', 'training/3103', 'training/4603', 'training/8098', 'training/8441', 'test/21419', 'training/1550', 'test/15816', 'test/19906', 'test/15739', 'training/11203', 'training/8595', 'training/11078', 'training/9891', 'training/2197', 'training/5542', 'training/8638', 'training/12887', 'training/8222', 'training/3556', 'training/11380', 'training/6890', 'training/7062', 'training/5127', 'test/18646', 'training/11287', 'training/8941', 'test/16190', 'test/17948', 'test/21331', 'test/17658', 'training/30', 'training/4953', 'test/19028', 'test/20773', 'test/17750', 'training/3155', 'training/7126', 'test/18146', 'training/10124', 'training/8688', 'test/15454', 'test/17870', 'training/10592', 'training/2936', 'training/6546', 'training/6091', 'training/10882', 'training/6373', 'training/8200', 'test/15917', 'training/1772', 'training/9526', 'training/8074', 'test/16792', 'training/10505', 'training/13157', 'test/15460', 'training/11344', 'training/9749', 'training/3034', 'training/5258', 'test/15255', 'test/19238', 'training/5195', 'test/19199', 'test/17509', 'training/14340', 'training/4534', 'training/11392', 'training/7119', 'training/9242', 'test/18071', 'test/20459', 'training/8205', 'test/17759', 'training/11773', 'training/12768', 'training/4988', 'training/10154', 'training/8506', 'training/12173', 'training/942', 'training/12815', 'test/20711', 'training/12533', 'test/16180', 'training/10931', 'training/11504', 'training/10902', 'training/4951', 'training/4488', 'training/46', 'training/8159', 'training/7071', 'training/5176', 'training/14297', 'test/19377', 'training/5330', 'training/4690', 'training/10139', 'training/5183', 'training/6846', 'test/20662', 'training/13531', 'test/18231', 'test/15351', 'test/16072', 'training/7036', 'training/1421', 'test/17521', 'training/5192', 'training/7001', 'training/2467', 'training/11721', 'test/15996', 'test/16794', 'training/13958', 'test/16555', 'training/10760', 'training/12472', 'training/3595', 'training/9764', 'test/18616', 'training/6588', 'training/6338', 'test/17574', 'training/4532', 'test/19844', 'training/5189', 'test/15239', 'test/16093', 'training/10048', 'training/3153', 'test/19368', 'training/11885', 'training/3068', 'training/6442', 'training/3748', 'test/16255', 'training/4769', 'training/111', 'training/13251', 'training/4599', 'training/4206', 'training/4714', 'training/13045', 'training/2074', 'training/843', 'test/15444', 'test/16505', 'test/15686', 'training/12002', 'training/5268', 'training/5717', 'training/7971', 'training/9521', 'training/10367', 'training/4364', 'training/8738', 'test/20925', 'test/18148', 'training/11198', 'training/13179', 'training/1094', 'training/3572', 'training/11752', 'training/3613', 'test/19781', 'test/21493', 'training/11281', 'training/9327', 'test/15584', 'training/5118', 'test/16784', 'test/17051', 'training/10724', 'training/10947', 'test/16442', 'test/17039', 'test/15194', 'training/7326', 'training/4905', 'training/11043', 'training/5109', 'test/16053', 'test/21131', 'training/1960', 'training/10153', 'training/3511', 'training/11179', 'training/4490', 'training/3002', 'training/12454', 'training/3492', 'test/17776', 'training/2465', 'training/9787', 'test/15206', 'training/12011', 'test/16565', 'test/16071', 'training/12249', 'training/1880', 'test/15310', 'training/7379', 'training/7426', 'training/9058', 'training/10530', 'training/12810', 'test/15617', 'test/16097', 'test/15960', 'test/16112', 'training/7539', 'test/15951', 'training/4275', 'training/6384', 'training/8675', 'test/20500', 'training/8618', 'training/1963', 'test/16811', 'training/200', 'training/3524', 'training/5852', 'training/3468', 'training/9746', 'training/8319', 'test/16200', 'test/16005', 'training/10694', 'training/6463', 'training/926', 'training/11492', 'training/1343', 'test/16395', 'training/3007', 'training/2367', 'training/10704', 'test/19471', 'test/21477', 'training/1535', 'test/15095', 'test/19083', 'test/19040', 'training/6707', 'training/4541', 'training/6085', 'training/4664', 'test/16257', 'training/13245', 'training/11861', 'training/4630', 'training/1579', 'training/14418', 'training/12437', 'training/10593', 'training/3137', 'training/9207', 'training/5070', 'training/3134', 'training/3493', 'test/15432', 'training/3322', 'training/9946', 'training/932', 'training/9822', 'training/69', 'training/10809', 'training/2476', 'test/15950', 'training/228', 'training/11725', 'training/249', 'training/2466', 'training/11119', 'training/4602', 'test/19882', 'training/9488', 'test/17771', 'training/9975', 'training/8069', 'training/3267', 'training/12178', 'training/516', 'training/5611', 'test/18024', 'training/8884', 'test/20865', 'training/124', 'test/15549', 'training/11661', 'test/18851', 'training/12337', 'training/5244', 'training/2813', 'training/2406', 'training/5156', 'training/8615', 'test/15551', 'training/5177', 'training/3666', 'training/13003', 'training/10246', 'training/4778', 'training/10701', 'training/9213', 'test/17654', 'training/13124', 'training/1934', 'training/768', 'training/2456', 'training/1387', 'training/12135', 'training/12971', 'test/16298', 'training/4552', 'training/13462', 'training/11939', 'training/12790', 'training/5060', 'training/3957', 'training/10744', 'training/11461', 'training/12422', 'training/12429', 'training/362', 'training/12848', 'training/5896', 'training/8415', 'training/941', 'training/5057', 'training/2833', 'training/8137', 'training/9436', 'training/5440', 'training/12788', 'training/1299', 'test/17863', 'training/12439', 'training/7537', 'training/104', 'training/12842', 'training/6296', 'training/2618', 'test/20532', 'training/2956', 'training/6301', 'training/10233', 'training/10230', 'test/17837', 'test/20787', 'training/11765', 'training/2596', 'training/1306', 'training/11811', 'training/3327', 'training/3488', 'training/12846', 'training/5826', 'training/4515', 'training/11575', 'training/4327', 'training/144', 'training/6264', 'test/15556', 'training/10209', 'training/221', 'training/12355', 'training/13039', 'training/8563', 'test/17877', 'training/6197', 'test/16359', 'training/8497', 'test/18904', 'training/11123', 'training/12760', 'training/3082', 'training/11459', 'training/518', 'training/7313', 'training/10623', 'training/7420', 'training/7980', 'training/7710', 'test/17943', 'test/16739', 'training/9532', 'training/14207', 'training/4267', 'training/4246', 'test/19668', 'test/14941', 'training/1112', 'training/4113', 'training/2775', 'training/969', 'training/14126', 'test/17923', 'training/1951', 'training/10178', 'training/9305', 'training/10857', 'training/2976', 'training/9634', 'training/12443', 'training/2508', 'training/11183', 'training/3514', 'training/4026', 'training/4405', 'training/5702', 'test/19418', 'training/14354', 'training/2206', 'training/4829', 'training/11984', 'training/9423', 'test/16833', 'test/15453', 'test/18781', 'training/5286', 'training/59', 'training/7791', 'training/7593', 'training/3942', 'training/7529', 'training/8823', 'training/2979', 'training/2000', 'test/19367', 'training/92', 'training/6116', 'test/15625', 'test/16607', 'test/20744', 'training/1878', 'training/3043', 'training/4519', 'test/19529', 'training/11209', 'training/5390', 'training/14515', 'test/16908', 'training/10771', 'training/1967', 'training/4138', 'test/21532', 'training/3095', 'test/14849', 'training/12424', 'training/13010', 'training/11498', 'training/5743', 'test/19364', 'training/13633', 'training/10192', 'training/76', 'training/4470', 'training/5487', 'training/13143', 'training/8554', 'test/17871', 'training/1569', 'training/1715', 'training/12761', 'training/6720', 'training/12257', 'training/10155', 'training/5273', 'training/977', 'training/12425', 'test/17669', 'training/12507', 'training/2777', 'training/7355', 'training/11292', 'training/10455', 'training/6034', 'training/9268', 'test/19721', 'training/4824', 'training/4965', 'training/6340', 'training/9779', 'training/4591', 'test/17888', 'training/2881', 'test/18099', 'test/18954', 'training/2521', 'training/2606', 'training/6157', 'training/9797', 'test/15043', 'training/3980', 'training/6414', 'training/12755', 'training/11260', 'test/18531', 'test/15200', 'training/4173', 'training/13261', 'training/8359', 'training/2195', 'test/16636', 'training/10769', 'training/11862', 'training/3825', 'training/58', 'test/15953', 'test/18523', 'training/11816', 'training/2659', 'training/11918', 'training/3057', 'test/19284', 'training/8252', 'training/10545', 'training/5531', 'training/2383', 'training/4165', 'training/12457', 'training/8413', 'training/7611', 'test/20001', 'training/2310', 'training/6337', 'test/15977', 'training/7391', 'training/77', 'training/9847', 'training/2115', 'test/20159', 'test/21277', 'training/12160', 'training/11491', 'training/5033', 'training/273', 'test/16115', 'training/5241', 'training/6996', 'test/16787', 'test/17620', 'test/15856', 'test/18946', 'training/5145', 'training/4632', 'test/16146', 'training/8677', 'training/13294', 'training/8746', 'training/8882', 'training/7070', 'training/6893', 'training/11143', 'training/11202', 'training/3955', 'training/7818', 'training/11843', 'test/18340', 'training/203', 'training/3609', 'test/16213', 'training/3047', 'test/16088', 'test/16096', 'training/2382', 'training/13144', 'training/5059', 'test/16079', 'training/10175', 'test/15975', 'test/16430', 'training/6752', 'training/2870', 'training/7011', 'training/9689', 'training/12473', 'training/9617', 'test/18328', 'training/10767', 'test/16194', 'training/5167', 'training/5376', 'training/4609', 'training/13115', 'training/10687', 'training/4081', 'training/6153', 'training/12827', 'training/13170', 'test/15226', 'training/3389', 'training/8850', 'training/7659', 'training/81', 'training/13729', 'training/4544', 'training/6998', 'test/20048', 'training/7570', 'training/10689', 'training/14220', 'training/5121', 'training/2828', 'training/8765', 'test/19397', 'training/7633', 'training/13052', 'training/9348', 'training/5168', 'training/5441', 'training/3762', 'training/10091', 'test/19478', 'training/12317', 'training/209', 'test/19546', 'training/4595', 'training/10742', 'training/7428', 'training/3104', 'training/7437', 'test/19432', 'training/7043', 'training/1582', 'test/17839', 'training/7367', 'test/17479', 'training/7421', 'test/15988', 'training/6142', 'test/18360', 'training/11254', 'test/16179', 'training/5214', 'test/17036', 'test/19506', 'training/5870', 'training/8008', 'training/9971', 'test/20232', 'training/13162', 'training/3222', 'training/3020', 'test/16216', 'test/21570', 'training/4093', 'training/10264', 'test/15999', 'training/6475', 'test/20382', 'training/2572', 'training/9288', 'training/13053', 'training/7959', 'training/5256', 'test/14957', 'training/11365', 'training/10519', 'training/3446', 'test/14923', 'training/4425', 'training/545', 'test/18621', 'test/19483', 'test/14840', 'test/15973', 'training/3292', 'training/1', 'training/6428', 'test/16649', 'training/6083', 'test/21539', 'training/11526', 'training/12145', 'training/4735', 'test/15675', 'training/8210', 'training/12073', 'training/4781', 'test/17812', 'training/8708', 'training/8914', 'training/9285', 'training/7103', 'training/7425', 'training/7419', 'test/18674', 'training/6999', 'training/2966', 'training/309', 'training/6531', 'training/1949', 'training/4043', 'test/14904', 'training/11261', 'training/2554', 'training/5683', 'test/16681', 'test/17930', 'training/7792', 'test/19169', 'training/7124', 'training/5518', 'training/10959', 'training/2818', 'training/3133', 'training/9754', 'test/14921', 'training/2917', 'test/19570', 'test/20462', 'test/19294', 'training/11071', 'training/974', 'test/19403', 'training/3916', 'training/2864', 'training/4516', 'training/8961', 'test/16747', 'test/17714', 'training/7499', 'test/14890', 'training/14732', 'training/10122', 'training/7356', 'training/4487', 'training/10177', 'training/8158', 'training/3563', 'training/9860', 'test/17047', 'training/6426', 'training/12818', 'test/17707', 'training/1623', 'training/10172', 'training/10506', 'training/12332', 'training/4005', 'training/6447', 'training/4576', 'training/5724', 'training/9206', 'training/11224', 'training/1466', 'training/5278', 'training/13231', 'training/2500', 'training/3128', 'test/15394', 'training/10643', 'training/8176', 'test/14839', 'test/19128', 'training/4720', 'training/5900', 'training/10905', 'training/6352', 'training/3190', 'training/12209', 'training/310', 'training/11866', 'training/5139', 'training/3534', 'training/9675', 'training/12311', 'training/10403', 'training/3217', 'test/17874', 'training/9127', 'test/20259', 'training/3131', 'training/44', 'training/13688', 'test/17703', 'test/17900', 'test/15976', 'training/6114', 'training/9833', 'training/7628', 'test/21556', 'test/20907', 'training/4356', 'training/10361', 'training/6748', 'training/2746', 'test/20267', 'training/12731', 'training/10183', 'training/3981', 'training/7807', 'test/17473', 'training/180', 'training/5957', 'training/10344', 'training/11469', 'training/6382', 'training/14293', 'training/10176', 'training/10717', 'training/14504', 'test/16402', 'test/18924', 'test/20335', 'training/11397', 'training/12791', 'training/10750', 'training/11893', 'training/10594', 'training/236', 'training/2442', 'training/13070', 'training/11536', 'training/331', 'test/15442', 'training/13019', 'training/9336', 'test/18672', 'test/19416', 'test/16525', 'training/6922', 'training/10729', 'training/7093', 'training/11558', 'training/4055', 'training/9559', 'training/2159', 'test/16271', 'training/4929', 'test/14826'}\n",
      "Término: 'zone' -> Documentos: {'training/9153', 'training/13320', 'test/20087', 'training/13542', 'training/9754', 'training/9864', 'training/6108', 'training/1990', 'training/5268', 'test/15549', 'training/6660', 'training/8563', 'training/5244', 'training/2522', 'training/5167', 'training/6166', 'test/19559', 'training/7823', 'training/10214', 'training/1088', 'training/10868', 'training/2782', 'training/4246', 'training/7304', 'training/6426', 'training/5812', 'training/7645', 'test/19110', 'training/5526', 'training/10662', 'training/9852', 'training/1', 'training/12963', 'training/9764', 'test/17054', 'training/273', 'training/14757', 'training/5273', 'training/5564', 'training/5057', 'training/2880', 'training/2411', 'training/12806', 'training/8948', 'training/7629', 'test/15694', 'test/15932', 'training/6400', 'training/10216', 'training/10811', 'training/7067', 'training/3442', 'training/2264', 'training/10539'}\n",
      "Término: 'allevi' -> Documentos: {'training/2746', 'test/18009', 'training/5826', 'test/17502', 'training/1611', 'test/17980', 'training/1', 'training/10593', 'training/5717', 'test/19165', 'training/11135', 'training/11120', 'test/18744'}\n",
      "Término: 'drought' -> Documentos: {'training/7917', 'training/5826', 'training/8603', 'test/19570', 'test/17568', 'training/875', 'training/1399', 'training/11964', 'test/16765', 'training/5800', 'training/11459', 'training/1212', 'training/1915', 'test/20005', 'training/10124', 'training/8613', 'training/11216', 'training/2389', 'training/6804', 'training/7545', 'training/1842', 'training/4117', 'training/4470', 'test/17477', 'test/16144', 'training/8257', 'training/11886', 'training/10494', 'training/2115', 'training/10640', 'training/10830', 'test/16099', 'training/1', 'test/14892', 'training/10300', 'training/3615', 'training/11183', 'test/19165', 'training/1901', 'training/3445', 'training/7104', 'training/10729', 'test/15472', 'training/232', 'training/842', 'training/249', 'training/1312', 'training/9058', 'training/8638'}\n",
      "Término: 'earli' -> Documentos: {'test/20868', 'training/12340', 'test/20030', 'training/2253', 'training/11794', 'training/3779', 'training/1072', 'test/21557', 'training/11064', 'training/1616', 'training/10642', 'training/3121', 'training/714', 'training/10086', 'training/13315', 'training/9279', 'test/20262', 'training/10358', 'training/1414', 'training/5933', 'training/2228', 'training/3463', 'training/4266', 'training/9871', 'training/8662', 'training/7366', 'training/11386', 'training/5169', 'training/11265', 'training/5171', 'training/1156', 'training/5570', 'training/925', 'training/3026', 'training/10780', 'training/12', 'training/4365', 'test/14881', 'training/9604', 'test/19835', 'test/16111', 'test/21475', 'training/320', 'training/3024', 'test/18994', 'training/5779', 'training/8553', 'training/2725', 'test/19101', 'training/4205', 'training/7873', 'training/9704', 'training/411', 'test/19373', 'training/7796', 'training/11387', 'training/7917', 'training/3115', 'training/7168', 'training/9097', 'test/19191', 'test/14928', 'training/7562', 'training/3645', 'training/4564', 'test/19499', 'training/8096', 'test/15349', 'training/8735', 'training/12447', 'training/303', 'training/18', 'training/6359', 'training/14757', 'training/8944', 'training/10081', 'training/10106', 'training/13184', 'test/18571', 'training/6400', 'test/15055', 'training/11327', 'test/20458', 'training/12924', 'test/15417', 'training/3490', 'training/11830', 'training/3111', 'test/17952', 'training/11232', 'training/10702', 'test/19285', 'training/9022', 'training/1078', 'training/11674', 'training/3411', 'test/18493', 'training/3149', 'training/7742', 'training/9361', 'test/15728', 'training/8979', 'test/16285', 'training/13130', 'training/1082', 'training/1269', 'test/16189', 'training/5542', 'training/2197', 'training/3310', 'training/8222', 'test/18910', 'training/6890', 'training/5127', 'training/2449', 'training/12573', 'training/6406', 'test/15454', 'training/8581', 'training/2246', 'training/6091', 'training/7061', 'training/5377', 'test/21568', 'test/21466', 'training/8200', 'test/16150', 'training/4133', 'training/2108', 'training/10505', 'training/5394', 'training/2534', 'test/14891', 'training/4088', 'test/19199', 'training/8592', 'training/8971', 'training/11392', 'training/3107', 'training/7934', 'training/1210', 'training/3758', 'training/13313', 'training/11753', 'training/12815', 'training/6348', 'test/16117', 'training/8309', 'training/10931', 'training/1557', 'training/8000', 'training/11774', 'training/13531', 'training/6353', 'training/1918', 'training/1860', 'training/8117', 'training/3869', 'training/7001', 'test/16581', 'training/7155', 'test/16226', 'training/9764', 'training/3360', 'training/6588', 'training/7716', 'training/1456', 'training/12465', 'training/3259', 'training/13994', 'training/2121', 'training/7216', 'training/13045', 'training/246', 'training/843', 'test/15686', 'training/4301', 'training/1943', 'training/10367', 'training/6740', 'training/9782', 'test/19986', 'training/3351', 'training/8667', 'test/15840', 'training/6086', 'training/1094', 'training/4090', 'test/21248', 'test/17051', 'test/16053', 'training/5835', 'test/16171', 'test/19000', 'test/16196', 'test/20738', 'training/11968', 'training/8299', 'test/18872', 'training/8246', 'training/12011', 'training/7879', 'test/17455', 'training/12883', 'training/10530', 'training/8675', 'test/18849', 'test/16286', 'training/5852', 'training/12083', 'test/20052', 'training/5352', 'training/3491', 'training/4297', 'training/1088', 'training/11775', 'training/12762', 'training/1535', 'training/8820', 'test/16257', 'training/8755', 'training/11861', 'training/5149', 'training/5998', 'training/1579', 'training/6492', 'training/10434', 'training/11175', 'test/17984', 'training/2269', 'training/10809', 'training/5232', 'training/3077', 'test/20465', 'training/11119', 'training/6543', 'training/9975', 'training/6357', 'training/9943', 'training/13544', 'training/290', 'test/21324', 'training/11118', 'test/18987', 'training/10246', 'training/4778', 'test/20174', 'training/1387', 'training/12971', 'test/16646', 'test/15375', 'training/3694', 'training/5896', 'training/10790', 'training/2968', 'training/2833', 'training/247', 'training/11795', 'training/1211', 'training/2618', 'test/16727', 'training/6737', 'training/2956', 'training/10000', 'training/5269', 'training/2596', 'training/3488', 'training/8421', 'training/1990', 'training/12355', 'training/8563', 'training/6197', 'training/13168', 'training/3110', 'training/1026', 'training/11832', 'test/19042', 'training/1848', 'training/6656', 'training/10623', 'training/7710', 'training/4246', 'training/4476', 'training/3593', 'training/9927', 'test/19262', 'training/12802', 'training/12753', 'test/15452', 'test/20624', 'training/3942', 'training/4367', 'test/15625', 'training/10797', 'training/8863', 'training/1967', 'training/7888', 'test/21532', 'training/12774', 'training/11200', 'training/4470', 'training/10342', 'training/9784', 'training/9848', 'training/1246', 'training/422', 'training/12425', 'training/7355', 'test/17618', 'training/10455', 'test/19721', 'training/11228', 'training/8029', 'training/8959', 'training/8845', 'training/8635', 'training/5438', 'training/12923', 'test/21112', 'test/15063', 'training/8603', 'test/17960', 'training/1931', 'training/11105', 'test/21486', 'training/6726', 'training/1080', 'training/10078', 'training/2383', 'training/4165', 'training/10779', 'training/6996', 'test/16161', 'training/6404', 'training/237', 'training/9907', 'test/18995', 'test/21508', 'test/14862', 'test/20319', 'training/10291', 'training/13192', 'test/19092', 'training/11234', 'test/19497', 'training/4058', 'test/14912', 'training/10687', 'training/4081', 'training/6153', 'test/17643', 'training/4682', 'training/7545', 'test/19664', 'training/7659', 'test/20187', 'test/20546', 'training/3421', 'test/21502', 'training/7570', 'test/19397', 'training/8311', 'training/3762', 'training/4809', 'training/1679', 'training/13008', 'test/19293', 'training/6407', 'training/12763', 'training/4666', 'training/6732', 'training/3884', 'training/8008', 'training/1808', 'training/9076', 'training/3020', 'test/15013', 'training/10375', 'training/3086', 'training/11216', 'training/2001', 'test/15615', 'training/8068', 'training/4425', 'test/19483', 'training/1', 'training/5172', 'training/11711', 'training/3445', 'test/15691', 'training/49', 'training/5223', 'training/6742', 'training/983', 'training/6531', 'training/7571', 'training/6350', 'training/6869', 'test/17930', 'test/14921', 'training/7065', 'test/19570', 'training/8064', 'test/18724', 'training/11071', 'training/11863', 'test/21142', 'training/3430', 'training/7499', 'test/16069', 'test/19775', 'training/1503', 'test/19947', 'test/15230', 'training/4005', 'training/9253', 'training/5985', 'training/4100', 'test/15394', 'training/4345', 'test/20241', 'test/19128', 'training/6352', 'training/1633', 'training/11866', 'training/11193', 'training/3534', 'training/6047', 'test/20138', 'training/10268', 'training/7247', 'training/3078', 'training/6114', 'training/11798', 'training/3981', 'test/17513', 'training/6382', 'training/6770', 'training/8802', 'test/21275', 'training/12791', 'training/1639', 'training/12179', 'training/11536', 'test/14922', 'training/10729', 'training/5082', 'training/7159', 'training/10569', 'test/16565'}\n"
     ]
    }
   ],
   "source": [
    "# Crear el índice invertido\n",
    "def construir_indice_invertido(documentos):\n",
    "    indice_invertido = defaultdict(set)\n",
    "    \n",
    "    # Recorremos cada documento\n",
    "    for doc_id, doc in documentos.items():\n",
    "        # Recorrer cada token del documento\n",
    "        for token in doc[\"tokens\"]:\n",
    "            indice_invertido[token].add(doc_id)\n",
    "    \n",
    "    return indice_invertido\n",
    "\n",
    "# Construir el índice invertido\n",
    "indice_invertido = construir_indice_invertido(documentos)\n",
    "\n",
    "# Mostrar el índice invertido para las primeras palabras\n",
    "for i, (term, docs) in enumerate(indice_invertido.items()):\n",
    "    if i >= 10:  # Limitar a las primeras 10 entradas para no saturar la salida\n",
    "        break\n",
    "    print(f\"Término: '{term}' -> Documentos: {docs}\")"
   ]
  },
  {
   "cell_type": "markdown",
   "metadata": {},
   "source": [
    "### Interpretación\n",
    "\n",
    "Con el **Índice Invertido** cada línea de la salida muestra un término (como `'bahia'` o `'cocoa'`) y los documentos (con identificadores como `'training/11459'`) en los que dicho término aparece."
   ]
  },
  {
   "cell_type": "markdown",
   "metadata": {},
   "source": [
    "#### 2.4.2.  Implementar y optimizar estructuras de datos para el Índice."
   ]
  },
  {
   "cell_type": "code",
   "execution_count": 41,
   "metadata": {},
   "outputs": [
    {
     "name": "stdout",
     "output_type": "stream",
     "text": [
      "Tiempo para construir el índice invertido: 0.2260 segundos\n",
      "Memoria utilizada: 29.39 MB\n",
      "Término: 'bahia' -> Documentos: {'training/11459', 'training/11911', 'test/17568', 'training/1', 'test/16071', 'test/15580', 'training/13462'}\n",
      "Término: 'cocoa' -> Documentos: {'training/12340', 'test/17568', 'test/19500', 'training/10491', 'test/18221', 'training/10586', 'training/6493', 'test/15179', 'training/8326', 'training/4147', 'training/8850', 'training/10619', 'training/13462', 'training/10505', 'test/18014', 'training/5258', 'training/5168', 'training/10742', 'training/6407', 'training/7367', 'training/12763', 'training/11811', 'test/17499', 'training/7071', 'training/12355', 'test/16148', 'training/11459', 'test/20005', 'test/21525', 'training/9953', 'training/5192', 'training/6128', 'training/10471', 'training/10760', 'training/1', 'training/9450', 'test/16098', 'test/19570', 'training/10584', 'test/17664', 'test/18222', 'training/8961', 'training/4564', 'training/10014', 'training/11341', 'training/10122', 'training/9903', 'training/4470', 'test/19358', 'test/17707', 'training/10506', 'training/275', 'training/11462', 'training/11224', 'training/3225', 'training/1889', 'training/10449', 'training/3190', 'training/2521', 'training/6414', 'training/10403', 'training/7311', 'training/5382', 'test/15095', 'training/12813', 'training/14418', 'training/13271', 'test/15653', 'training/5880', 'test/17984', 'training/10613', 'training/8978', 'test/17733', 'training/5598', 'training/11843', 'training/5491', 'training/9559', 'training/3310'}\n",
      "Término: 'review' -> Documentos: {'training/2511', 'training/2793', 'training/3454', 'training/6557', 'training/874', 'training/11970', 'test/16513', 'test/19955', 'training/6503', 'training/10531', 'training/10423', 'test/18987', 'training/5177', 'test/15060', 'test/17443', 'training/5643', 'test/16278', 'test/19505', 'training/7940', 'training/3421', 'training/8598', 'training/13462', 'training/8106', 'training/13243', 'test/17896', 'training/14220', 'training/6876', 'training/7253', 'training/436', 'training/9445', 'test/17886', 'training/342', 'test/19654', 'training/6158', 'training/5258', 'training/12848', 'training/6217', 'training/9667', 'training/6598', 'test/17810', 'training/682', 'training/2951', 'training/247', 'training/8130', 'test/17963', 'training/8608', 'test/17986', 'training/5517', 'test/19432', 'training/7937', 'training/7308', 'training/8205', 'training/11386', 'training/1210', 'training/11265', 'training/7596', 'test/20787', 'training/2359', 'test/17036', 'training/5655', 'training/5290', 'training/10780', 'training/2783', 'training/11273', 'training/5176', 'training/9277', 'training/9971', 'training/6846', 'test/15253', 'training/5627', 'training/12423', 'training/1848', 'training/2128', 'training/6595', 'training/6606', 'training/8716', 'training/12771', 'test/15568', 'training/8117', 'training/13908', 'training/9733', 'training/7001', 'training/8060', 'training/8186', 'test/18991', 'test/18996', 'test/18686', 'training/14126', 'test/18621', 'training/5690', 'training/3292', 'training/1', 'training/9138', 'training/311', 'training/5335', 'training/11191', 'training/4405', 'test/18667', 'test/15656', 'training/9450', 'training/9283', 'test/17574', 'training/9892', 'training/6791', 'training/9793', 'training/5286', 'training/10048', 'test/21408', 'training/3711', 'training/3748', 'training/409', 'test/18985', 'training/4043', 'training/7796', 'test/20008', 'training/8606', 'test/19367', 'training/6410', 'training/8982', 'training/496', 'training/6873', 'training/843', 'test/20462', 'training/6438', 'training/6939', 'training/11209', 'test/17927', 'training/3154', 'training/10918', 'training/10784', 'test/16564', 'test/17478', 'training/6068', 'training/3916', 'training/8134', 'training/8961', 'training/3589', 'test/17714', 'test/17876', 'training/2219', 'test/18034', 'test/19781', 'training/4277', 'training/11281', 'training/5291', 'test/19947', 'test/21535', 'training/13054', 'training/3157', 'training/1148', 'test/18811', 'training/3013', 'training/8080', 'training/7872', 'training/3577', 'test/16006', 'test/21046', 'test/19000', 'test/21411', 'test/18145', 'training/2777', 'training/11224', 'training/1466', 'training/4824', 'training/2095', 'training/2500', 'training/8676', 'training/6400', 'training/9216', 'training/12011', 'test/15394', 'training/10181', 'training/6578', 'training/11327', 'training/248', 'test/16071', 'test/19128', 'test/19713', 'test/19065', 'training/5139', 'training/13274', 'test/21061', 'training/6060', 'training/10786', 'training/7311', 'training/13046', 'training/10676', 'training/4080', 'training/7907', 'test/15552', 'test/17894', 'test/18104', 'training/7950', 'training/6726', 'test/19285', 'training/5541', 'training/372', 'training/8252', 'training/180', 'training/5382', 'training/2271', 'training/5558', 'training/8198', 'training/8438', 'training/2383', 'test/17929', 'test/14829', 'training/6935', 'training/7304', 'test/18924', 'training/6085', 'training/393', 'training/712', 'test/16257', 'training/11882', 'training/6912', 'training/1579', 'test/18595', 'training/236', 'training/2764', 'training/3413', 'test/21202', 'training/5070', 'training/9382', 'training/10985', 'test/21469', 'training/237', 'training/9907', 'training/11285', 'training/1735', 'training/6746', 'test/16029', 'training/3795', 'training/11086', 'training/8098', 'training/4806', 'training/3336', 'training/5318', 'test/20465', 'training/9472', 'training/4429', 'test/16925', 'training/11717', 'training/5542'}\n",
      "Término: 'shower' -> Documentos: {'training/6153', 'test/19262', 'training/10388', 'training/1', 'training/6114', 'training/11536', 'training/8705', 'test/15043', 'training/6142'}\n",
      "Término: 'continu' -> Documentos: {'training/2542', 'test/15742', 'training/8131', 'training/498', 'test/15484', 'test/20868', 'test/18252', 'test/21473', 'training/1675', 'training/13136', 'training/3574', 'training/11587', 'training/11714', 'training/5750', 'training/1263', 'test/18604', 'training/11243', 'test/16926', 'training/11844', 'training/930', 'test/21557', 'training/5706', 'training/5643', 'training/4431', 'training/730', 'training/9149', 'training/1616', 'test/15810', 'training/346', 'test/21251', 'training/903', 'test/20511', 'training/10659', 'training/3056', 'training/8933', 'training/6876', 'test/17766', 'test/18920', 'training/10830', 'training/915', 'test/19654', 'test/19968', 'training/11160', 'training/6158', 'training/12732', 'training/4290', 'training/8664', 'training/9967', 'test/20441', 'training/6315', 'test/19998', 'training/6473', 'test/20262', 'training/1414', 'training/2228', 'training/2697', 'training/3463', 'training/4266', 'training/7937', 'training/2727', 'training/10080', 'training/2747', 'training/1444', 'training/3531', 'training/7566', 'training/7366', 'training/6215', 'training/7408', 'test/14959', 'training/6593', 'training/13949', 'training/5171', 'test/17993', 'test/15871', 'training/12146', 'training/3520', 'training/6317', 'training/11763', 'training/11936', 'training/3798', 'training/14587', 'training/5290', 'training/685', 'test/14881', 'training/7135', 'training/7902', 'training/9604', 'test/17048', 'training/8943', 'training/5523', 'training/9641', 'training/3080', 'test/14975', 'test/21321', 'training/8349', 'training/3024', 'test/16177', 'test/20071', 'test/17950', 'training/11507', 'test/18086', 'training/12772', 'training/11450', 'training/867', 'training/11374', 'test/16723', 'test/16023', 'training/7698', 'training/1029', 'training/1607', 'training/179', 'test/17873', 'training/14199', 'training/10066', 'training/2725', 'training/2357', 'test/14984', 'test/15932', 'test/18185', 'training/6590', 'training/1980', 'training/6722', 'test/19453', 'training/197', 'test/18575', 'training/6844', 'training/7796', 'training/7521', 'training/9915', 'training/5888', 'training/5190', 'test/15263', 'training/7917', 'training/8630', 'training/10743', 'training/7625', 'test/16483', 'test/19159', 'training/5471', 'test/20396', 'training/10618', 'training/8855', 'training/6068', 'training/3645', 'training/5095', 'training/4548', 'training/9393', 'test/16252', 'test/15349', 'test/15624', 'training/5752', 'training/5895', 'test/21535', 'test/14911', 'training/7704', 'training/13023', 'training/9470', 'test/15450', 'training/8022', 'training/303', 'training/9403', 'test/20013', 'training/6346', 'training/14698', 'training/1477', 'training/856', 'training/7443', 'test/20982', 'training/10658', 'training/5947', 'training/8188', 'training/10106', 'test/18917', 'training/3646', 'training/4818', 'test/16162', 'training/10181', 'training/4101', 'training/11327', 'training/1889', 'test/19556', 'training/12487', 'training/1347', 'training/3893', 'training/11734', 'training/2993', 'training/5563', 'training/1620', 'training/2768', 'training/7075', 'training/12394', 'training/3263', 'training/3532', 'test/16095', 'test/17507', 'training/5323', 'test/18095', 'training/10904', 'training/13046', 'training/4343', 'training/5396', 'training/10255', 'training/8088', 'training/10654', 'training/220', 'training/896', 'training/10702', 'test/19285', 'training/2838', 'training/441', 'training/2012', 'test/20991', 'test/21512', 'training/922', 'training/6914', 'training/253', 'training/7304', 'training/3380', 'test/20080', 'training/3149', 'training/7742', 'training/8044', 'test/16144', 'test/16158', 'test/21303', 'training/742', 'training/5271', 'training/11007', 'training/1811', 'test/18177', 'training/8055', 'training/3429', 'training/13105', 'training/10774', 'training/1269', 'training/5408', 'training/4603', 'training/8441', 'training/1588', 'training/13060', 'training/11203', 'training/5786', 'training/11717', 'training/3163', 'training/5542', 'training/11330', 'training/8595', 'training/9891', 'training/6276', 'test/16320', 'training/5127', 'training/2428', 'training/2449', 'training/748', 'test/15270', 'training/7013', 'training/7218', 'test/20079', 'training/4953', 'training/12573', 'test/17700', 'test/19028', 'training/6406', 'test/18146', 'training/7964', 'training/9668', 'training/6546', 'training/2246', 'training/3640', 'training/4133', 'test/17551', 'training/345', 'training/8074', 'test/17896', 'training/10505', 'training/10807', 'test/16621', 'training/227', 'training/3564', 'training/23', 'training/11161', 'training/8063', 'training/9853', 'training/14340', 'training/13266', 'training/8971', 'training/9770', 'training/5255', 'training/5338', 'training/9869', 'test/16354', 'test/16875', 'training/8111', 'training/12768', 'training/12917', 'training/3420', 'training/11753', 'training/12815', 'test/16737', 'training/2948', 'training/6063', 'test/16076', 'test/19557', 'training/5769', 'training/7576', 'training/6037', 'training/10902', 'training/8000', 'training/10696', 'training/11774', 'training/5176', 'training/6719', 'test/19377', 'test/18176', 'training/3997', 'training/8716', 'training/12771', 'training/10546', 'training/11377', 'training/123', 'training/5192', 'training/9088', 'training/11726', 'test/20469', 'test/16226', 'training/9764', 'training/8039', 'test/18642', 'training/8518', 'test/21506', 'test/15162', 'training/2971', 'test/15656', 'training/6434', 'training/10832', 'training/6836', 'test/18625', 'test/18564', 'test/16093', 'training/14389', 'training/3329', 'training/2737', 'training/10', 'test/16310', 'training/11523', 'test/18213', 'training/5827', 'training/1434', 'training/843', 'test/15444', 'training/10748', 'training/12002', 'training/9521', 'training/5717', 'test/16788', 'training/938', 'test/14852', 'test/19986', 'training/6177', 'training/8799', 'test/20925', 'test/20012', 'test/20021', 'training/11198', 'training/13179', 'training/11752', 'test/17780', 'test/18599', 'training/6632', 'test/19769', 'training/10695', 'test/15194', 'training/12986', 'training/5193', 'training/4944', 'training/13037', 'training/9761', 'test/19762', 'training/12159', 'test/21076', 'training/275', 'training/6927', 'training/889', 'training/4810', 'test/16176', 'test/15386', 'training/12883', 'test/15396', 'training/12249', 'test/16118', 'test/15617', 'training/9603', 'test/16112', 'training/10520', 'training/5667', 'training/10174', 'training/4573', 'training/3183', 'training/56', 'training/7539', 'test/16909', 'test/18849', 'training/11739', 'training/200', 'training/3524', 'training/5852', 'training/12083', 'training/7725', 'training/12191', 'training/11468', 'training/5352', 'training/5737', 'test/15527', 'test/19471', 'training/3007', 'test/20231', 'training/6886', 'training/2061', 'training/12878', 'test/14993', 'training/2965', 'test/19136', 'training/11322', 'training/3206', 'training/10473', 'training/8820', 'training/11953', 'training/6085', 'test/16495', 'training/5453', 'training/5808', 'training/3372', 'training/4630', 'training/3302', 'training/1579', 'training/4097', 'training/8430', 'training/11083', 'test/20869', 'training/10593', 'training/3137', 'training/9734', 'training/9203', 'training/562', 'training/14485', 'training/8135', 'training/8962', 'training/2269', 'training/1428', 'test/21323', 'test/21040', 'training/3077', 'training/249', 'training/11551', 'training/4602', 'training/14623', 'training/9087', 'test/18280', 'test/19882', 'test/15666', 'test/15639', 'training/4713', 'training/921', 'training/1909', 'training/12743', 'training/3267', 'test/18024', 'training/3051', 'test/21013', 'training/6357', 'test/20865', 'test/15549', 'training/12337', 'training/4536', 'training/11118', 'training/2326', 'training/5177', 'test/15979', 'training/6959', 'training/9701', 'test/15060', 'training/10246', 'training/5746', 'training/10701', 'training/9213', 'training/10388', 'training/955', 'training/9337', 'test/16278', 'training/12428', 'training/2307', 'test/15352', 'training/11314', 'training/12754', 'training/11939', 'test/15375', 'test/20230', 'training/5896', 'training/2968', 'training/3028', 'training/12848', 'training/1099', 'test/15696', 'training/402', 'training/7605', 'training/12788', 'test/17863', 'training/9699', 'training/12842', 'training/6657', 'training/1211', 'training/2618', 'test/16727', 'test/16706', 'training/1379', 'test/20348', 'training/6737', 'test/16336', 'training/10230', 'test/20787', 'training/2596', 'training/10641', 'training/1306', 'training/8902', 'training/5473', 'test/18519', 'training/10209', 'training/2783', 'training/4771', 'training/9048', 'training/12355', 'training/2741', 'test/17877', 'test/14933', 'test/15219', 'training/3084', 'training/6413', 'training/12760', 'training/5423', 'training/11459', 'training/10841', 'training/1848', 'test/15641', 'training/2924', 'test/20005', 'training/733', 'training/9952', 'training/1112', 'training/11949', 'training/3593', 'training/5787', 'test/15478', 'training/4662', 'training/11839', 'training/2775', 'training/3330', 'training/3846', 'training/13199', 'training/10640', 'training/4636', 'training/8757', 'test/17923', 'test/19262', 'training/13649', 'test/15240', 'training/11867', 'test/18017', 'test/15452', 'training/14354', 'training/13543', 'test/16175', 'training/2087', 'test/18009', 'training/9793', 'training/5286', 'training/998', 'training/11932', 'training/1816', 'training/8113', 'training/894', 'training/7626', 'training/3937', 'training/2979', 'training/2116', 'test/18930', 'training/10219', 'training/6121', 'test/18488', 'training/3043', 'training/8621', 'training/6376', 'training/11029', 'training/12858', 'training/1193', 'training/13174', 'training/1498', 'test/16765', 'training/2219', 'test/16264', 'test/20216', 'training/13633', 'test/21387', 'test/17871', 'training/3918', 'training/12390', 'training/6030', 'training/10617', 'training/7310', 'training/8623', 'training/1246', 'test/16099', 'training/1388', 'training/3364', 'training/8479', 'training/11722', 'training/5273', 'test/16611', 'test/17618', 'training/1886', 'test/15798', 'training/6034', 'training/4223', 'training/4824', 'training/8342', 'training/3440', 'test/21002', 'training/12059', 'training/2881', 'test/21006', 'training/10341', 'training/272', 'training/2521', 'test/15043', 'test/15063', 'training/3743', 'test/21210', 'test/17960', 'training/13261', 'test/15511', 'training/6101', 'training/4392', 'training/5206', 'test/18658', 'test/18317', 'training/1213', 'training/4477', 'training/6928', 'training/10769', 'test/21486', 'training/11816', 'training/10661', 'training/8109', 'training/8105', 'training/435', 'training/2130', 'training/393', 'training/7391', 'training/2115', 'training/12160', 'training/6912', 'test/16577', 'training/273', 'test/17731', 'training/2728', 'training/6465', 'training/8746', 'training/2411', 'training/237', 'training/7433', 'training/12202', 'test/19055', 'training/13321', 'test/15107', 'training/2515', 'training/11843', 'training/10291', 'training/3540', 'training/203', 'training/7557', 'training/9582', 'training/8240', 'training/7166', 'test/16088', 'training/1718', 'test/19560', 'training/2511', 'training/875', 'test/16430', 'training/11783', 'training/7662', 'training/9617', 'training/10531', 'training/5366', 'training/5167', 'training/13115', 'test/14912', 'training/2173', 'training/2475', 'training/1996', 'training/4081', 'training/6153', 'test/19683', 'test/20981', 'training/11891', 'test/20168', 'training/4147', 'test/15264', 'training/7940', 'training/2492', 'test/20048', 'test/16853', 'training/259', 'training/14220', 'training/9535', 'training/2828', 'test/15573', 'training/14310', 'training/10555', 'training/3287', 'training/5168', 'training/6217', 'test/17448', 'training/3762', 'training/1499', 'test/18186', 'test/21287', 'test/19478', 'training/10373', 'training/1407', 'training/2203', 'training/13008', 'training/1582', 'test/20095', 'test/17479', 'test/18347', 'training/1312', 'training/4890', 'test/15988', 'training/6142', 'test/19918', 'test/20087', 'training/2359', 'training/2006', 'training/2983', 'training/6732', 'training/6253', 'training/3884', 'training/2916', 'training/5870', 'training/7287', 'training/7041', 'training/10703', 'training/1361', 'test/18257', 'training/945', 'test/18576', 'training/9628', 'training/10264', 'training/9657', 'training/1201', 'training/1994', 'training/5379', 'test/19509', 'training/5345', 'training/13258', 'test/18991', 'test/18996', 'training/3446', 'training/1429', 'training/1', 'training/6428', 'training/820', 'test/21539', 'training/5172', 'training/11711', 'training/4735', 'training/2742', 'training/10038', 'training/12550', 'training/4122', 'training/3777', 'training/8705', 'training/4781', 'training/9978', 'test/19751', 'test/17812', 'training/1272', 'training/9192', 'test/15691', 'training/9892', 'test/14967', 'training/1152', 'training/3711', 'training/8262', 'training/13247', 'training/7635', 'training/6811', 'test/20693', 'training/10648', 'training/7792', 'test/18050', 'training/7124', 'training/6873', 'training/2815', 'test/14921', 'test/20462', 'training/2226', 'training/7985', 'training/10095', 'test/20829', 'training/11071', 'training/3607', 'training/11706', 'test/16564', 'training/11863', 'test/19403', 'training/9799', 'training/3430', 'training/7499', 'training/9957', 'training/5113', 'training/5458', 'test/16759', 'training/8015', 'training/9170', 'training/10122', 'training/9129', 'test/15230', 'training/3563', 'test/17047', 'test/15345', 'training/6426', 'training/12818', 'training/11196', 'training/7872', 'training/8747', 'training/982', 'training/2791', 'training/5985', 'training/12389', 'training/9206', 'training/7901', 'training/11224', 'training/3472', 'test/16597', 'training/4345', 'training/12416', 'test/15110', 'test/18490', 'training/13185', 'training/7609', 'training/11253', 'training/3276', 'training/8976', 'test/20259', 'training/5850', 'training/12521', 'training/10826', 'training/12192', 'test/21556', 'training/6114', 'training/9833', 'training/7628', 'training/11852', 'training/6748', 'test/16367', 'training/5719', 'training/5833', 'training/11400', 'training/8438', 'training/7263', 'training/6770', 'test/17674', 'test/18924', 'training/12791', 'training/11882', 'training/5511', 'test/16108', 'training/3868', 'training/8541', 'training/9771', 'training/236', 'training/13256', 'test/18609', 'training/11536', 'training/11103', 'training/12418', 'training/9336', 'test/21469', 'test/18672', 'training/2278', 'training/7093', 'test/15817', 'training/3093', 'training/4429', 'training/11705', 'test/14826'}\n"
     ]
    }
   ],
   "source": [
    "# Función para medir el tiempo y la memoria de la construcción del índice\n",
    "def medir_tiempo_memoria_indice(func, documentos):\n",
    "    start_time = time.time()\n",
    "    \n",
    "    # Medir la memoria antes de ejecutar\n",
    "    proceso = psutil.Process()\n",
    "    memoria_inicial = proceso.memory_info().rss\n",
    "    \n",
    "    # Ejecutar la función para construir el índice\n",
    "    indice = func(documentos)\n",
    "    \n",
    "    # Medir el tiempo y la memoria después de ejecutar\n",
    "    end_time = time.time()\n",
    "    memoria_final = proceso.memory_info().rss\n",
    "    memoria_utilizada = memoria_final - memoria_inicial\n",
    "    \n",
    "    tiempo_ejecucion = end_time - start_time\n",
    "    \n",
    "    return tiempo_ejecucion, memoria_utilizada, indice\n",
    "\n",
    "# Evaluar el índice invertido\n",
    "tiempo_indice, memoria_indice, indice = medir_tiempo_memoria_indice(construir_indice_invertido, documentos)\n",
    "\n",
    "# Mostrar resultados\n",
    "print(f\"Tiempo para construir el índice invertido: {tiempo_indice:.4f} segundos\")\n",
    "print(f\"Memoria utilizada: {memoria_indice / (1024 * 1024):.2f} MB\")\n",
    "\n",
    "# Mostrar algunos términos en el índice invertido para verificar\n",
    "for termino, docs in list(indice.items())[:5]:  # Muestra los primeros 5 términos\n",
    "    print(f\"Término: '{termino}' -> Documentos: {docs}\")"
   ]
  },
  {
   "cell_type": "markdown",
   "metadata": {},
   "source": [
    "### 2.5. Diseño del Motor de Búsqueda"
   ]
  },
  {
   "cell_type": "markdown",
   "metadata": {},
   "source": [
    "#### 2.5.1.  Desarrollar la lógica para procesar consultas de usuarios."
   ]
  },
  {
   "cell_type": "code",
   "execution_count": 42,
   "metadata": {},
   "outputs": [],
   "source": [
    "# Procesar una consulta utilizando las funciones de limpieza y tokenización\n",
    "def procesar_consulta(consulta, indice_invertido):\n",
    "    # Limpieza de la consulta\n",
    "    consulta_limpia = limpiar_texto(consulta)\n",
    "    \n",
    "    # Tokenización de la consulta\n",
    "    consulta_tokens = tokenizar_texto(consulta_limpia)\n",
    "    \n",
    "    # Inicializar un conjunto para los documentos relevantes\n",
    "    documentos_relevantes = set()\n",
    "    \n",
    "    # Buscar cada término en el índice invertido\n",
    "    for termino in consulta_tokens:\n",
    "        if termino in indice_invertido:\n",
    "            documentos_relevantes.update(indice_invertido[termino])\n",
    "    \n",
    "    return documentos_relevantes"
   ]
  },
  {
   "cell_type": "code",
   "execution_count": 50,
   "metadata": {},
   "outputs": [
    {
     "name": "stdout",
     "output_type": "stream",
     "text": [
      "Documentos que contienen los términos de la consulta: {'test/16071', 'training/11459', 'test/15580', 'training/11911', 'test/17568', 'training/1', 'training/13462'}\n"
     ]
    }
   ],
   "source": [
    "# Ejemplo de uso\n",
    "consulta_usuario = \"bahia\"  # Ejemplo de consulta del usuario\n",
    "documentos_encontrados = procesar_consulta(consulta_usuario, indice_invertido)\n",
    "\n",
    "print(f\"Documentos que contienen los términos de la consulta: {documentos_encontrados}\")"
   ]
  },
  {
   "cell_type": "markdown",
   "metadata": {},
   "source": [
    "#### 2.5.2. Utilizar algoritmos de similitud como similitud coseno o Jaccard."
   ]
  },
  {
   "cell_type": "code",
   "execution_count": 70,
   "metadata": {},
   "outputs": [],
   "source": [
    "# Función para calcular similitud de coseno\n",
    "def similitud_coseno(consulta, documentos):\n",
    "    vectorizador = TfidfVectorizer()\n",
    "    \n",
    "    # Extraer textos de los documentos\n",
    "    textos_documentos = [documentos[doc_id]['texto'] for doc_id in documentos]\n",
    "    \n",
    "    # Crear el corpus con la consulta y los textos relevantes\n",
    "    corpus = [consulta] + textos_documentos\n",
    "    \n",
    "    # Generar la matriz TF-IDF\n",
    "    matriz_tfidf = vectorizador.fit_transform(corpus)\n",
    "    \n",
    "    # Calcular la similitud de coseno entre la consulta y cada documento\n",
    "    similitudes = cosine_similarity(matriz_tfidf[0:1], matriz_tfidf[1:]).flatten()\n",
    "    \n",
    "    # Retornar resultados como un diccionario\n",
    "    return dict(zip(documentos.keys(), similitudes))\n",
    "\n",
    "# Función para calcular similitud de Jaccard\n",
    "def similitud_jaccard(consulta, documentos):\n",
    "    tokens_consulta = set(tokenizar_texto(limpiar_texto(consulta)))\n",
    "    similitudes = {}\n",
    "    \n",
    "    for doc_id, doc in documentos.items():\n",
    "        tokens_doc = set(doc['tokens'])\n",
    "        interseccion = len(tokens_consulta & tokens_doc)\n",
    "        union = len(tokens_consulta | tokens_doc)\n",
    "        similitudes[doc_id] = interseccion / union if union > 0 else 0\n",
    "    \n",
    "    return similitudes"
   ]
  },
  {
   "cell_type": "code",
   "execution_count": 73,
   "metadata": {},
   "outputs": [
    {
     "name": "stdout",
     "output_type": "stream",
     "text": [
      "Similitud de Coseno:\n",
      "test/16071: 0.0706\n",
      "training/11459: 0.0368\n",
      "test/15580: 0.0687\n",
      "training/11911: 0.1087\n",
      "test/17568: 0.0346\n",
      "training/1: 0.0552\n",
      "training/13462: 0.0067\n",
      "\n",
      "Similitud de Jaccard:\n",
      "test/16071: 0.0233\n",
      "training/11459: 0.0100\n",
      "test/15580: 0.0370\n",
      "training/11911: 0.0345\n",
      "test/17568: 0.0204\n",
      "training/1: 0.0079\n",
      "training/13462: 0.0058\n"
     ]
    }
   ],
   "source": [
    "# Proceso principal\n",
    "consulta_usuario = \"bahia\"  # Consulta de ejemplo\n",
    "documentos_encontrados_ids = procesar_consulta(consulta_usuario, indice_invertido)\n",
    "\n",
    "# Filtrar los documentos encontrados\n",
    "documentos_encontrados = {doc_id: documentos[doc_id] for doc_id in documentos_encontrados_ids}\n",
    "\n",
    "if documentos_encontrados:\n",
    "    print(\"Similitud de Coseno:\")\n",
    "    resultados_coseno = similitud_coseno(consulta_usuario, documentos_encontrados)\n",
    "    for doc, sim in resultados_coseno.items():\n",
    "        print(f\"{doc}: {sim:.4f}\")\n",
    "    \n",
    "    print(\"\\nSimilitud de Jaccard:\")\n",
    "    resultados_jaccard = similitud_jaccard(consulta_usuario, documentos_encontrados)\n",
    "    for doc, sim in resultados_jaccard.items():\n",
    "        print(f\"{doc}: {sim:.4f}\")\n",
    "else:\n",
    "    print(\"No se encontraron documentos relevantes para la consulta.\")"
   ]
  },
  {
   "cell_type": "markdown",
   "metadata": {},
   "source": [
    "#### 2.5.2. Desarrollar un algoritmo de ranking para ordenar los resultados."
   ]
  },
  {
   "cell_type": "code",
   "execution_count": 75,
   "metadata": {},
   "outputs": [],
   "source": [
    "def rankear_documentos(resultados_coseno, resultados_jaccard, peso_coseno=0.7, peso_jaccard=0.3):\n",
    "    # Combinar los resultados con una ponderación\n",
    "    puntajes = {}\n",
    "    for doc_id in set(resultados_coseno.keys()).union(resultados_jaccard.keys()):\n",
    "        sim_coseno = resultados_coseno.get(doc_id, 0)  # Similitud de coseno (por defecto 0 si no existe)\n",
    "        sim_jaccard = resultados_jaccard.get(doc_id, 0)  # Similitud de Jaccard (por defecto 0 si no existe)\n",
    "        # Calcular puntaje ponderado\n",
    "        puntajes[doc_id] = (peso_coseno * sim_coseno) + (peso_jaccard * sim_jaccard)\n",
    "    \n",
    "    # Ordenar los documentos por puntaje en orden descendente\n",
    "    documentos_ordenados = sorted(puntajes.items(), key=lambda x: x[1], reverse=True)\n",
    "    \n",
    "    return documentos_ordenados"
   ]
  },
  {
   "cell_type": "code",
   "execution_count": 76,
   "metadata": {},
   "outputs": [
    {
     "name": "stdout",
     "output_type": "stream",
     "text": [
      "Documentos ordenados por relevancia (ranking):\n",
      "training/11911: 0.0864\n",
      "test/15580: 0.0592\n",
      "test/16071: 0.0564\n",
      "training/1: 0.0410\n",
      "test/17568: 0.0304\n",
      "training/11459: 0.0287\n",
      "training/13462: 0.0064\n"
     ]
    }
   ],
   "source": [
    "# Aplicar el algoritmo de ranking\n",
    "documentos_rankeados = rankear_documentos(resultados_coseno, resultados_jaccard)\n",
    "\n",
    "# Mostrar documentos ordenados por relevancia\n",
    "print(\"Documentos ordenados por relevancia (ranking):\")\n",
    "for doc, puntaje in documentos_rankeados:\n",
    "    print(f\"{doc}: {puntaje:.4f}\")"
   ]
  },
  {
   "cell_type": "markdown",
   "metadata": {},
   "source": [
    "#### Razonamienta pesos de similitud coseno y jaccard\n",
    "\n",
    "- **Coseno (0.7):** Se le da más peso porque mide relaciones contextuales y distribucionales, especialmente útil para documentos largos.\n",
    "- **Jaccard (0.3):** Es útil para medir la presencia exacta de términos, pero en general es más limitado en su aplicabilidad comparado con la similitud de Coseno."
   ]
  },
  {
   "cell_type": "markdown",
   "metadata": {},
   "source": [
    "### 2.6. Diseño del Motor de Búsqueda"
   ]
  },
  {
   "cell_type": "markdown",
   "metadata": {},
   "source": [
    "#### 2.5.1.  Definir un conjunto de métricas de evaluación (precisión, recall, F1-score)."
   ]
  }
 ],
 "metadata": {
  "kernelspec": {
   "display_name": "Python 3",
   "language": "python",
   "name": "python3"
  },
  "language_info": {
   "codemirror_mode": {
    "name": "ipython",
    "version": 3
   },
   "file_extension": ".py",
   "mimetype": "text/x-python",
   "name": "python",
   "nbconvert_exporter": "python",
   "pygments_lexer": "ipython3",
   "version": "3.8.10"
  }
 },
 "nbformat": 4,
 "nbformat_minor": 2
}
