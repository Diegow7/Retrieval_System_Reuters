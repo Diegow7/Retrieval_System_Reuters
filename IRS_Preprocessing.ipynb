{
 "cells": [
  {
   "cell_type": "markdown",
   "metadata": {},
   "source": [
    "# Proyecto Bimestral: Sistema de Recuperaci´on de Información basado en Reuters-21578\n",
    "## 1. Introducción\n",
    "El objetivo de este proyecto es diseñar, construir, programar y desplegar un Sistema de Recuperación de Información (SRI) utilizando el corpus Reuters-21578.\n",
    "## 2. Fases del Proyecto\n",
    "###  2.1. Adquisición de datos\n",
    "\n",
    "*   Descargar el Corpus Reuters-21578\n",
    "*   Descomprimir y organizar los archivos\n",
    "*   Documentar el proceso de adquisición de datos"
   ]
  },
  {
   "cell_type": "markdown",
   "metadata": {},
   "source": [
    "![Descripción de la imagen](images/corpus_reuters.jpg)"
   ]
  },
  {
   "cell_type": "markdown",
   "metadata": {},
   "source": [
    "#### Descarga y análisis inicial del corpus\n",
    "\n",
    "1. El archivo comprimido fue descargado y descomprimido en una carpeta local vinculada a un repositorio de GitHub.\n",
    "2. Posteriormente, se analizó el contenido del corpus, obteniendo los siguientes resultados:\n",
    "   - **Carpeta `test`**: Contiene 3019 archivos.\n",
    "   - **Carpeta `training`**: Contiene 7769 archivos.\n",
    "   - **Archivo `cats`**: Incluye las categorías.\n",
    "   - **Archivo `readme`**: Proporciona información general sobre el corpus.\n",
    "   - **Archivo `stopwords`**: Contiene una lista de palabras vacías."
   ]
  },
  {
   "cell_type": "markdown",
   "metadata": {},
   "source": [
    "#### Librerias y Dependencias necesarias"
   ]
  },
  {
   "cell_type": "markdown",
   "metadata": {},
   "source": [
    "#### Notas"
   ]
  },
  {
   "cell_type": "markdown",
   "metadata": {},
   "source": [
    "Al no encontrarnos en un entorno de Google Colab, sino en VS, nos basta con ejecutar una sola vez el comando `!pip install rarfile` para tener la biblioteca `rarfile` en nuestro entorno."
   ]
  },
  {
   "cell_type": "code",
   "execution_count": 27,
   "metadata": {},
   "outputs": [],
   "source": [
    "#!pip install rarfile"
   ]
  },
  {
   "cell_type": "markdown",
   "metadata": {},
   "source": [
    "Al no encontrarnos en un entorno de Google Colab, sino en VS, nos basta con ejecutar una sola vez el comando `!pip install nltk` para tener la biblioteca `nltk` en nuestro entorno."
   ]
  },
  {
   "cell_type": "code",
   "execution_count": 29,
   "metadata": {},
   "outputs": [],
   "source": [
    "#!pip install nltk"
   ]
  },
  {
   "cell_type": "markdown",
   "metadata": {},
   "source": [
    "El comando `pip install scikit-learn` instala la librería `scikit-learn`, que es una herramienta para realizar tareas de aprendizaje automático (machine learning) como clasificación, regresión y clustering."
   ]
  },
  {
   "cell_type": "code",
   "execution_count": 17,
   "metadata": {},
   "outputs": [],
   "source": [
    "#pip install scikit-learn"
   ]
  },
  {
   "cell_type": "markdown",
   "metadata": {},
   "source": [
    "El comando `pip install gensim` instala la librería `gensim`, que se utiliza para el procesamiento de texto y la creación de modelos de aprendizaje automático, como Word2Vec, para generar representaciones vectoriales de palabras."
   ]
  },
  {
   "cell_type": "code",
   "execution_count": 19,
   "metadata": {},
   "outputs": [],
   "source": [
    "#pip install gensim"
   ]
  },
  {
   "cell_type": "code",
   "execution_count": 1,
   "metadata": {},
   "outputs": [],
   "source": [
    "# Librerias necesarias\n",
    "import os\n",
    "import re\n",
    "import nltk\n",
    "import rarfile\n",
    "import time # Evaluar tecnicas de vectorización\n",
    "import psutil # Evaluar tecnicas de vectorización\n",
    "import gc # Evaluar tecnicas de vectorización\n",
    "import numpy as np\n",
    "import pandas as pd # Obtener tablas\n",
    "import matplotlib.pyplot as plt # Para obtener gráfica\n",
    "import seaborn as sns # Para obtener gráfica\n",
    "from collections import defaultdict # Para el indice invertido\n",
    "from nltk.tokenize import word_tokenize # para tokenizar\n",
    "from nltk.stem import PorterStemmer\n",
    "from sklearn.feature_extraction.text import CountVectorizer, TfidfVectorizer # Matriz TD, Matriz TF-IDF\n",
    "from gensim.models import Word2Vec\n",
    "from sklearn.metrics.pairwise import cosine_similarity"
   ]
  },
  {
   "cell_type": "markdown",
   "metadata": {},
   "source": [
    "### 2.2. Preprocesamiento"
   ]
  },
  {
   "cell_type": "markdown",
   "metadata": {},
   "source": [
    "#### 2.2.1. Extraer el contenido relevante de los documentos"
   ]
  },
  {
   "cell_type": "code",
   "execution_count": 2,
   "metadata": {},
   "outputs": [
    {
     "name": "stdout",
     "output_type": "stream",
     "text": [
      "Archivos extraídos:\n",
      "['reuters']\n"
     ]
    }
   ],
   "source": [
    "rarfile.UNRAR_TOOL = r\"D:\\UnRAR\\UnRAR.exe\" # Cambiar por ubicación local de tu herramienta UNRAR\n",
    "\n",
    "# Ruta del archivo .rar\n",
    "rar_path = 'material/reuters.rar'\n",
    "output_dir = 'material/content'\n",
    "\n",
    "# Crear el directorio de salida si no existe\n",
    "os.makedirs(output_dir, exist_ok=True)\n",
    "\n",
    "# Descomprimir el archivo .rar\n",
    "with rarfile.RarFile(rar_path) as rf:\n",
    "    rf.extractall(output_dir)\n",
    "\n",
    "# Verificar que se haya descomprimido correctamente\n",
    "print(\"Archivos extraídos:\")\n",
    "print(os.listdir(output_dir))"
   ]
  },
  {
   "cell_type": "code",
   "execution_count": 2,
   "metadata": {},
   "outputs": [],
   "source": [
    "# Directorios de documentos\n",
    "train_dir = 'material/content/reuters/training'\n",
    "test_dir = 'material/content/reuters/test'\n",
    "cats_file = 'material/content/reuters/cats.txt'\n",
    "\n",
    "# Función para extraer contenido de un archivo de noticias\n",
    "def extraer_texto(filepath):\n",
    "    try:\n",
    "        with open(filepath, 'r', encoding='latin-1') as file:\n",
    "            contenido = file.read()\n",
    "            texto_limpio = contenido.strip()  # Elimina espacios en blanco iniciales y finales\n",
    "            return texto_limpio\n",
    "    except Exception as e:\n",
    "        print(f\"Error al leer el archivo {filepath}: {e}\")\n",
    "        return \"\"\n",
    "\n",
    "# Función para cargar las categorías de los documentos\n",
    "def cargar_categorias(filepath):\n",
    "    categorias = {}\n",
    "    try:\n",
    "        with open(filepath, 'r', encoding='latin-1') as file:\n",
    "            for linea in file:\n",
    "                partes = linea.strip().split()  # Divide la línea en partes separadas por espacios\n",
    "                if len(partes) >= 2:\n",
    "                    doc_id = partes[0]  # Primer elemento es el id del documento (test/14826, training/1)\n",
    "                    etiquetas = partes[1:]  # Resto de elementos son categorías\n",
    "                    categorias[doc_id] = etiquetas\n",
    "    except Exception as e:\n",
    "        print(f\"Error al leer el archivo de categorías {filepath}: {e}\")\n",
    "    return categorias\n",
    "\n",
    "# Función para cargar los documentos y asociar categorías\n",
    "def cargar_documentos(directorio, tipo, categorias_dict):\n",
    "    data = []\n",
    "    archivos = os.listdir(directorio)\n",
    "    if not archivos:\n",
    "        print(f\"No se encontraron archivos en {directorio}\")\n",
    "    for archivo in archivos:\n",
    "        filepath = os.path.join(directorio, archivo)\n",
    "        doc_id = f\"{tipo}/{archivo}\"\n",
    "        texto = extraer_texto(filepath)\n",
    "        categorias = categorias_dict.get(doc_id, [])  # Obtener categorías, si no hay, devuelve lista vacía\n",
    "\n",
    "        # Añadir a la lista para crear el dataframe\n",
    "        data.append({\"doc_id\": doc_id, \"texto\": texto, \"categorias\": categorias})\n",
    "\n",
    "    return data"
   ]
  },
  {
   "cell_type": "code",
   "execution_count": 3,
   "metadata": {},
   "outputs": [
    {
     "name": "stdout",
     "output_type": "stream",
     "text": [
      "Total de documentos cargados: 10788\n",
      "ID: training/1\n",
      "Texto: BAHIA COCOA REVIEW\n",
      "  Showers continued throughout the week in\n",
      "  the Bahia cocoa zone, alleviating the drought since early\n",
      "  January and improving prospects for the coming temporao,\n",
      "  although normal humidity levels have not been restored,\n",
      "  Comissaria Smith said in its weekly review.\n",
      "      The dry period means the temporao will be late this year.\n",
      "      Arrivals for the week ended February 22 were 155,221 bags\n",
      "  of 60 kilos making a cumulative total for the season of 5.93\n",
      "  mln against 5.81 at th...\n",
      "Categorías: ['cocoa']\n"
     ]
    }
   ],
   "source": [
    "# Cargar categorías\n",
    "categorias_dict = cargar_categorias(cats_file)\n",
    "\n",
    "# Listas para almacenar los datos de entrenamiento y prueba\n",
    "data_train = cargar_documentos(train_dir, 'training', categorias_dict)\n",
    "data_test = cargar_documentos(test_dir, 'test', categorias_dict)\n",
    "\n",
    "# Crear dataframes\n",
    "df_train = pd.DataFrame(data_train)\n",
    "df_test = pd.DataFrame(data_test)\n",
    "\n",
    "# Combinar los datasets de entrenamiento y prueba en un único dataframe\n",
    "df_documentos = pd.concat([df_train, df_test], ignore_index=True)\n",
    "\n",
    "# Verificar el tamaño y algunas muestras\n",
    "print(f\"Total de documentos cargados: {len(df_documentos)}\")\n",
    "if not df_documentos.empty:\n",
    "    ejemplo_doc = df_documentos.iloc[0]  # Obtener la primera fila del dataframe\n",
    "    print(f\"ID: {ejemplo_doc['doc_id']}\")\n",
    "    print(f\"Texto: {ejemplo_doc['texto'][:500]}...\")  # Mostrar los primeros 500 caracteres\n",
    "    print(f\"Categorías: {ejemplo_doc['categorias']}\")\n",
    "else:\n",
    "    print(\"No se cargaron documentos.\")"
   ]
  },
  {
   "cell_type": "code",
   "execution_count": 4,
   "metadata": {},
   "outputs": [
    {
     "name": "stdout",
     "output_type": "stream",
     "text": [
      "Columnas del dataframe: Index(['doc_id', 'texto', 'categorias'], dtype='object')\n",
      "           doc_id                                              texto  \\\n",
      "0      training/1  BAHIA COCOA REVIEW\\n  Showers continued throug...   \n",
      "1     training/10  COMPUTER TERMINAL SYSTEMS &lt;CPML> COMPLETES ...   \n",
      "2    training/100  N.Z. TRADING BANK DEPOSIT GROWTH RISES SLIGHTL...   \n",
      "3   training/1000  NATIONAL AMUSEMENTS AGAIN UPS VIACOM &lt;VIA> ...   \n",
      "4  training/10000  ROGERS &lt;ROG> SEES 1ST QTR NET UP SIGNIFICAN...   \n",
      "\n",
      "       categorias  \n",
      "0         [cocoa]  \n",
      "1           [acq]  \n",
      "2  [money-supply]  \n",
      "3           [acq]  \n",
      "4          [earn]  \n"
     ]
    }
   ],
   "source": [
    "# Mostrar las primeras filas del DataFrame para verificar la estructura\n",
    "print(f\"Columnas del dataframe: {df_documentos.columns}\")  # Muestra los nombres de las columnas\n",
    "print(df_documentos.head())  # Muestra las primeras 5 filas"
   ]
  },
  {
   "cell_type": "markdown",
   "metadata": {},
   "source": [
    "#### 2.2.2. Realizar limpieza de datos: eliminación de caracteres no deseados, normalización de texto, etc."
   ]
  },
  {
   "cell_type": "code",
   "execution_count": 5,
   "metadata": {},
   "outputs": [],
   "source": [
    "# Función para limpiar texto\n",
    "def limpiar_texto(texto):\n",
    "    # 1. Conversión a minúsculas\n",
    "    texto = texto.lower()\n",
    "\n",
    "    # 2. Eliminación de caracteres especiales y números\n",
    "    texto = re.sub(r'[^a-z\\s]', '', texto)\n",
    "\n",
    "    # 3. Eliminación de espacios extra\n",
    "    texto = re.sub(r'\\s+', ' ', texto).strip()\n",
    "\n",
    "    return texto"
   ]
  },
  {
   "cell_type": "code",
   "execution_count": 6,
   "metadata": {},
   "outputs": [
    {
     "name": "stdout",
     "output_type": "stream",
     "text": [
      "ID: training/1\n",
      "Texto limpio: bahia cocoa review showers continued throughout the week in the bahia cocoa zone alleviating the drought since early january and improving prospects for the coming temporao although normal humidity levels have not been restored comissaria smith said in its weekly review the dry period means the temporao will be late this year arrivals for the week ended february were bags of kilos making a cumulative total for the season of mln against at the same stage last year again it seems that cocoa delive...\n"
     ]
    }
   ],
   "source": [
    "# Aplicar la limpieza de texto a la columna 'texto' del dataframe\n",
    "df_documentos['texto'] = df_documentos['texto'].apply(limpiar_texto)\n",
    "\n",
    "# Verificar el resultado de la limpieza en un documento de ejemplo\n",
    "ejemplo_doc = df_documentos.iloc[0]  # Obtener la primera fila del dataframe\n",
    "print(f\"ID: {ejemplo_doc['doc_id']}\")\n",
    "print(f\"Texto limpio: {ejemplo_doc['texto'][:500]}...\")"
   ]
  },
  {
   "cell_type": "markdown",
   "metadata": {},
   "source": [
    "#### 2.2.3. Tokenización: dividir el texto en palabras o tokens"
   ]
  },
  {
   "cell_type": "markdown",
   "metadata": {},
   "source": [
    "#### Nota\n",
    "Al no encontrarnos en un entorno de Google Colab, sino en VS, nos basta con ejecutar una sola vez el comando `nltk.download('punkt')` o `nltk.download('punkt_tab')`, por lo cual no es necesario volver a ejcutarlo."
   ]
  },
  {
   "cell_type": "code",
   "execution_count": 6,
   "metadata": {},
   "outputs": [],
   "source": [
    "# Descargar los recursos necesarios de NLTK para tokenizar texto en oraciones y palabras\n",
    "#nltk.download('punkt')\n",
    "#nltk.download('punkt_tab')"
   ]
  },
  {
   "cell_type": "code",
   "execution_count": 7,
   "metadata": {},
   "outputs": [],
   "source": [
    "# Función para tokenizar texto\n",
    "def tokenizar_texto(texto):\n",
    "    # Utilizamos word_tokenize de NLTK para dividir en tokens\n",
    "    tokens = word_tokenize(texto)\n",
    "    return tokens"
   ]
  },
  {
   "cell_type": "code",
   "execution_count": 8,
   "metadata": {},
   "outputs": [
    {
     "name": "stdout",
     "output_type": "stream",
     "text": [
      "ID: training/1\n",
      "Tokens: ['bahia', 'cocoa', 'review', 'showers', 'continued', 'throughout', 'the', 'week', 'in', 'the', 'bahia', 'cocoa', 'zone', 'alleviating', 'the', 'drought', 'since', 'early', 'january', 'and']...\n"
     ]
    }
   ],
   "source": [
    "# Aplicar la tokenización a la columna 'texto' del dataframe\n",
    "df_documentos['tokens'] = df_documentos['texto'].apply(tokenizar_texto)\n",
    "\n",
    "# Verificar el resultado de la tokenización en un documento de ejemplo\n",
    "ejemplo_doc = df_documentos.iloc[0]  # Obtener la primera fila del dataframe\n",
    "print(f\"ID: {ejemplo_doc['doc_id']}\")\n",
    "print(f\"Tokens: {ejemplo_doc['tokens'][:20]}...\")"
   ]
  },
  {
   "cell_type": "markdown",
   "metadata": {},
   "source": [
    "#### 2.2.4. Eliminar stop words y  aplicar stemming o lematización."
   ]
  },
  {
   "cell_type": "code",
   "execution_count": 9,
   "metadata": {},
   "outputs": [
    {
     "name": "stdout",
     "output_type": "stream",
     "text": [
      "Ejemplo de Stop Words cargadas: ['ie', 'nevertheless', 'anyways', 'beforehand', 'ask', \"who's\", 'believe', 'zero', 'according', 'very', 'seen', 'has', 'saying', 'nd', \"wasn't\"]\n"
     ]
    }
   ],
   "source": [
    "# Cargar el archivo de stopwords proporcionado\n",
    "ruta_stopwords = 'material/content/reuters/stopwords'\n",
    "stopwords_personalizadas = set()\n",
    "\n",
    "with open(ruta_stopwords, 'r') as archivo:\n",
    "    for linea in archivo:\n",
    "        palabra = linea.strip()  # Removemos espacios y saltos de línea\n",
    "        if palabra:  # Evitamos añadir líneas vacías\n",
    "            stopwords_personalizadas.add(palabra.lower())\n",
    "\n",
    "# Verificamos algunas stop words cargadas\n",
    "print(\"Ejemplo de Stop Words cargadas:\", list(stopwords_personalizadas)[:15])"
   ]
  },
  {
   "cell_type": "code",
   "execution_count": 10,
   "metadata": {},
   "outputs": [
    {
     "name": "stdout",
     "output_type": "stream",
     "text": [
      "ID: training/1\n",
      "Tokens sin Stop Words: ['bahia', 'cocoa', 'review', 'showers', 'continued', 'week', 'bahia', 'cocoa', 'zone', 'alleviating', 'drought', 'early', 'january', 'improving', 'prospects', 'coming', 'temporao', 'normal', 'humidity', 'levels']...\n"
     ]
    }
   ],
   "source": [
    "# Función para eliminar stop words de los tokens\n",
    "def eliminar_stopwords(tokens, stopwords):\n",
    "    # Filtramos los tokens que no están en la lista de stopwords\n",
    "    tokens_filtrados = [token for token in tokens if token.lower() not in stopwords]\n",
    "    return tokens_filtrados\n",
    "\n",
    "# Aplicamos la eliminación de stopwords a la columna 'tokens' del dataframe\n",
    "df_documentos['tokens'] = df_documentos['tokens'].apply(lambda x: eliminar_stopwords(x, stopwords_personalizadas))\n",
    "\n",
    "# Verificar el resultado después de eliminar stop words en un documento de ejemplo\n",
    "ejemplo_doc = df_documentos.iloc[0]  # Obtener la primera fila del dataframe\n",
    "print(f\"ID: {ejemplo_doc['doc_id']}\")\n",
    "print(f\"Tokens sin Stop Words: {ejemplo_doc['tokens'][:20]}...\")"
   ]
  },
  {
   "cell_type": "code",
   "execution_count": 11,
   "metadata": {},
   "outputs": [
    {
     "data": {
      "image/png": "[encoded data removed]",
      "text/plain": [
       "<Figure size 1000x600 with 1 Axes>"
      ]
     },
     "metadata": {},
     "output_type": "display_data"
    }
   ],
   "source": [
    "longitud_antes = df_documentos['texto'].apply(lambda x: len(x.split()))\n",
    "longitud_despues = df_documentos['tokens'].apply(len)\n",
    "\n",
    "plt.figure(figsize=(10, 6))\n",
    "sns.histplot(longitud_antes, color='blue', label='Antes', kde=True)\n",
    "sns.histplot(longitud_despues, color='red', label='Después', kde=True)\n",
    "plt.legend()\n",
    "plt.title(\"Impacto de la eliminación de Stop Words\")\n",
    "plt.xlabel(\"Número de palabras/tokens\")\n",
    "plt.ylabel(\"Frecuencia\")\n",
    "plt.show()"
   ]
  },
  {
   "cell_type": "markdown",
   "metadata": {},
   "source": [
    "#### Nota\n",
    "Para nuestro caso de estudio y aplicación de este proyecto, aplicaremos **Steming**. \n",
    "\n",
    "Como equipo, consideramos más eficiente en términos de recursos porque el stemming utiliza reglas más simples y rápidas para reducir las palabras a su raíz, mientras que la lemmatización requiere un procesamiento más complejo y el uso de diccionarios para obtener la forma base correcta de las palabras."
   ]
  },
  {
   "cell_type": "code",
   "execution_count": 12,
   "metadata": {},
   "outputs": [],
   "source": [
    "# Inicializar el stemmer\n",
    "stemmer = PorterStemmer()\n",
    "\n",
    "# Función para aplicar stemming a los tokens de un documento\n",
    "def aplicar_stemming(tokens):\n",
    "    return [stemmer.stem(token) for token in tokens]"
   ]
  },
  {
   "cell_type": "code",
   "execution_count": 13,
   "metadata": {},
   "outputs": [
    {
     "name": "stdout",
     "output_type": "stream",
     "text": [
      "ID: training/1\n",
      "Tokens con Stemming: ['bahia', 'cocoa', 'review', 'shower', 'continu', 'week', 'bahia', 'cocoa', 'zone', 'allevi', 'drought', 'earli', 'januari', 'improv', 'prospect', 'come', 'temporao', 'normal', 'humid', 'level']...\n"
     ]
    }
   ],
   "source": [
    "# Aplicar el stemming a la columna 'tokens' del dataframe\n",
    "df_documentos['tokens'] = df_documentos['tokens'].apply(aplicar_stemming)\n",
    "\n",
    "# Verificar un documento de ejemplo después del stemming\n",
    "ejemplo_doc = df_documentos.iloc[0]  # Obtener la primera fila del dataframe\n",
    "print(f\"ID: {ejemplo_doc['doc_id']}\")\n",
    "print(f\"Tokens con Stemming: {ejemplo_doc['tokens'][:20]}...\")"
   ]
  },
  {
   "cell_type": "markdown",
   "metadata": {},
   "source": [
    "### 2.3.  Representación de Datos en Espacio Vectorial"
   ]
  },
  {
   "cell_type": "markdown",
   "metadata": {},
   "source": [
    "#### 2.3.1. Utilizar técnicas como Bag of Words (BoW), TF-IDF, y Word2Vec."
   ]
  },
  {
   "cell_type": "code",
   "execution_count": 14,
   "metadata": {},
   "outputs": [
    {
     "name": "stdout",
     "output_type": "stream",
     "text": [
      "Dimensiones de la matriz BoW: (10788, 26004)\n",
      "Primeras 10 palabras del vocabulario BoW: ['aa' 'aaa' 'aabex' 'aachen' 'aaminu' 'aancor' 'aap' 'aaplu' 'aar'\n",
      " 'aarnoud']\n",
      "Vector BoW del primer documento:\n",
      "[[0 0 0 ... 0 0 0]]\n"
     ]
    }
   ],
   "source": [
    "# Convertir tokens preprocesados a texto unificado para vectorización\n",
    "df_documentos['texto_procesado'] = df_documentos['tokens'].apply(lambda x: ' '.join(x))\n",
    "\n",
    "# Inicializar el vectorizador BoW\n",
    "bow_vectorizer = CountVectorizer()\n",
    "\n",
    "# Aplicar BoW a los textos procesados\n",
    "bow_matrix = bow_vectorizer.fit_transform(df_documentos['texto_procesado'])\n",
    "\n",
    "# Verificar la matriz resultante\n",
    "print(\"Dimensiones de la matriz BoW:\", bow_matrix.shape)\n",
    "\n",
    "# Mostrar las primeras 10 palabras del vocabulario\n",
    "vocabulario_bow = bow_vectorizer.get_feature_names_out()\n",
    "print(\"Primeras 10 palabras del vocabulario BoW:\", vocabulario_bow[:10])\n",
    "\n",
    "# Inspeccionar una fila de la matriz BoW\n",
    "print(\"Vector BoW del primer documento:\")\n",
    "print(bow_matrix[0].toarray())"
   ]
  },
  {
   "cell_type": "code",
   "execution_count": 15,
   "metadata": {},
   "outputs": [
    {
     "name": "stdout",
     "output_type": "stream",
     "text": [
      "Dimensiones de la matriz TF-IDF: (10788, 26004)\n",
      "Primeras 10 palabras del vocabulario TF-IDF: ['aa' 'aaa' 'aabex' 'aachen' 'aaminu' 'aancor' 'aap' 'aaplu' 'aar'\n",
      " 'aarnoud']\n",
      "Vector TF-IDF del primer documento:\n",
      "[[0. 0. 0. ... 0. 0. 0.]]\n"
     ]
    }
   ],
   "source": [
    "# Aplicar TF-IDF a los textos procesados\n",
    "tfidf_vectorizer = TfidfVectorizer()\n",
    "tfidf_matrix = tfidf_vectorizer.fit_transform(df_documentos['texto_procesado'])\n",
    "\n",
    "# Verificar la matriz resultante\n",
    "print(\"Dimensiones de la matriz TF-IDF:\", tfidf_matrix.shape)\n",
    "\n",
    "# Mostrar las primeras 10 palabras del vocabulario\n",
    "vocabulario_tfidf = tfidf_vectorizer.get_feature_names_out()\n",
    "print(\"Primeras 10 palabras del vocabulario TF-IDF:\", vocabulario_tfidf[:10])\n",
    "\n",
    "# Inspeccionar una fila de la matriz TF-IDF\n",
    "print(\"Vector TF-IDF del primer documento:\")\n",
    "print(tfidf_matrix[0].toarray())"
   ]
  },
  {
   "cell_type": "code",
   "execution_count": 16,
   "metadata": {},
   "outputs": [
    {
     "name": "stdout",
     "output_type": "stream",
     "text": [
      "Dimensiones de la matriz Word2Vec: (10788, 100)\n",
      "Vector Word2Vec del primer documento:\n",
      "[ 3.66349108e-02  5.03003022e-02  9.40639483e-02  3.87760378e-01\n",
      "  4.48369095e-01 -7.82160591e-01  4.06932068e-01  4.40401008e-01\n",
      " -5.23845583e-01 -2.93758500e-01 -2.47346727e-01 -1.04749982e+00\n",
      " -1.40292638e-01  4.72371370e-01 -9.97614716e-02 -2.56885415e-01\n",
      "  5.21023576e-01  3.76292517e-02 -1.11516751e-01 -5.23685621e-01\n",
      "  4.74765792e-01  1.53598358e-01  2.43207567e-01 -4.80376970e-01\n",
      "  2.86298471e-01  3.50983590e-01 -3.24171284e-01  1.34642823e-01\n",
      " -5.78896788e-01 -2.62646864e-01  8.73288818e-01  1.57721902e-01\n",
      "  2.63933333e-01 -4.12078800e-01 -1.98191275e-01  2.79958190e-01\n",
      " -1.67937374e-02 -4.47105739e-01 -2.31635709e-01 -5.64903186e-01\n",
      "  3.13341631e-01 -4.42816373e-01 -6.40516974e-01 -3.94927358e-01\n",
      "  3.15943159e-01  1.41492133e-01  3.22624547e-02  4.45090496e-02\n",
      "  2.22570377e-01  4.51939765e-02  4.34928126e-01 -3.64476147e-01\n",
      " -3.97634267e-01  6.18418455e-01 -5.61183670e-01  5.65646061e-01\n",
      " -1.02482489e-03 -3.39145567e-02 -3.63893452e-01  1.10500595e-01\n",
      "  6.72194677e-02  6.80347005e-04  3.19932203e-02  1.46214261e-01\n",
      " -3.17674730e-01  5.12023280e-01  4.14316864e-02  1.31246084e-01\n",
      " -5.60986687e-01  7.55353365e-01 -5.23105591e-01  1.46058834e-01\n",
      "  4.38009957e-01  1.36771219e-01  4.68221601e-01 -5.79144716e-02\n",
      " -3.47310939e-01  1.11803209e-01 -6.05700651e-01 -1.74952019e-02\n",
      " -5.65630268e-01 -1.94660092e-01 -4.39062092e-01  4.54083603e-01\n",
      " -1.54208206e-01 -1.78583310e-01  3.57612773e-01 -1.05398991e-02\n",
      "  2.91329690e-01 -2.99906698e-01  2.66280401e-01  1.54419999e-01\n",
      "  2.51741619e-01  6.99372075e-02  3.00583008e-01  3.70571613e-01\n",
      "  1.74518216e-01 -2.14457372e-02 -1.02577495e-01 -3.31622566e-02]\n"
     ]
    }
   ],
   "source": [
    "# Crear el modelo Word2Vec\n",
    "model_w2v = Word2Vec(sentences=df_documentos['tokens'], vector_size=100, window=5, min_count=1, workers=4)\n",
    "\n",
    "# Función para obtener el vector promedio de un documento\n",
    "def obtener_vector_promedio(tokens, model):\n",
    "    # Inicializamos un vector de ceros\n",
    "    vector_promedio = np.zeros(model.vector_size)\n",
    "    count = 0\n",
    "    for token in tokens:\n",
    "        if token in model.wv:\n",
    "            vector_promedio += model.wv[token]\n",
    "            count += 1\n",
    "    if count > 0:\n",
    "        vector_promedio /= count  # Promediamos si hay tokens en el modelo\n",
    "    return vector_promedio\n",
    "\n",
    "# Obtener los vectores promedio para todos los documentos\n",
    "documentos_w2v = []\n",
    "for tokens in df_documentos['tokens']:\n",
    "    vector = obtener_vector_promedio(tokens, model_w2v)\n",
    "    documentos_w2v.append(vector)\n",
    "\n",
    "# Convertimos la lista a una matriz\n",
    "documentos_w2v_matrix = np.array(documentos_w2v)\n",
    "\n",
    "# Verificar el resultado\n",
    "print(\"Dimensiones de la matriz Word2Vec:\", documentos_w2v_matrix.shape)\n",
    "\n",
    "# Inspeccionar el primer vector de documento\n",
    "print(\"Vector Word2Vec del primer documento:\")\n",
    "print(documentos_w2v_matrix[0])"
   ]
  },
  {
   "cell_type": "markdown",
   "metadata": {},
   "source": [
    "#### 2.3.2. Evaluar las diferentes técnicas de vectorización."
   ]
  },
  {
   "cell_type": "code",
   "execution_count": 17,
   "metadata": {},
   "outputs": [
    {
     "name": "stdout",
     "output_type": "stream",
     "text": [
      "Evaluación BoW: Tiempo = 0.0020 segundos, Memoria = 0.00 MB\n",
      "Evaluación TF-IDF: Tiempo = 0.0040 segundos, Memoria = 0.00 MB\n",
      "Evaluación Word2Vec: Tiempo = 8.5093 segundos, Memoria = 7.12 MB\n"
     ]
    },
    {
     "data": {
      "text/plain": [
       "192"
      ]
     },
     "execution_count": 17,
     "metadata": {},
     "output_type": "execute_result"
    }
   ],
   "source": [
    "# Función para medir el tiempo y la memoria\n",
    "def medir_tiempo_memoria(func):\n",
    "    # Medir el tiempo de ejecución\n",
    "    start_time = time.time()\n",
    "    \n",
    "    # Medir la memoria antes de ejecutar\n",
    "    proceso = psutil.Process()\n",
    "    memoria_inicial = proceso.memory_info().rss  # Memoria en bytes\n",
    "    \n",
    "    # Ejecutar la función\n",
    "    result = func()\n",
    "    \n",
    "    # Medir el tiempo y la memoria después de ejecutar\n",
    "    end_time = time.time()\n",
    "    memoria_final = proceso.memory_info().rss\n",
    "    memoria_utilizada = memoria_final - memoria_inicial\n",
    "    \n",
    "    # Calcular tiempo de ejecución\n",
    "    tiempo_ejecucion = end_time - start_time\n",
    "    \n",
    "    return tiempo_ejecucion, memoria_utilizada, result\n",
    "\n",
    "# Evaluar BoW (Bag of Words)\n",
    "def evaluar_bow():\n",
    "    vectorizer = CountVectorizer()\n",
    "    X_bow = vectorizer.fit_transform(df_documentos)\n",
    "    return X_bow\n",
    "\n",
    "# Evaluar TF-IDF\n",
    "def evaluar_tfidf():\n",
    "    tfidf_vectorizer = TfidfVectorizer()\n",
    "    X_tfidf = tfidf_vectorizer.fit_transform(df_documentos)\n",
    "    return X_tfidf\n",
    "\n",
    "# Evaluar word2vec\n",
    "def evaluar_word2vec():\n",
    "    model_w2v = Word2Vec(sentences=[tokens for tokens in df_documentos['tokens']], vector_size=100, window=5, min_count=1, workers=4)\n",
    "\n",
    "    # Función para obtener el vector promedio de los tokens\n",
    "    def obtener_vector_promedio(tokens, model):\n",
    "        vectores = [model.wv[token] for token in tokens if token in model.wv]\n",
    "        if vectores:\n",
    "            return np.mean(vectores, axis=0)\n",
    "        else:\n",
    "            return np.zeros(model.vector_size)\n",
    "    \n",
    "    # Obtener el vector promedio para cada documento\n",
    "    documentos_w2v = {index: obtener_vector_promedio(tokens, model_w2v) for index, tokens in df_documentos['tokens'].items()}\n",
    "    return documentos_w2v\n",
    "\n",
    "# Evaluar cada técnica\n",
    "tiempo_bow, memoria_bow, _ = medir_tiempo_memoria(evaluar_bow)\n",
    "tiempo_tfidf, memoria_tfidf, _ = medir_tiempo_memoria(evaluar_tfidf)\n",
    "tiempo_w2v, memoria_w2v, _ = medir_tiempo_memoria(evaluar_word2vec)\n",
    "\n",
    "# Mostrar los resultados\n",
    "print(f\"Evaluación BoW: Tiempo = {tiempo_bow:.4f} segundos, Memoria = {memoria_bow / (1024 * 1024):.2f} MB\")\n",
    "print(f\"Evaluación TF-IDF: Tiempo = {tiempo_tfidf:.4f} segundos, Memoria = {memoria_tfidf / (1024 * 1024):.2f} MB\")\n",
    "print(f\"Evaluación Word2Vec: Tiempo = {tiempo_w2v:.4f} segundos, Memoria = {memoria_w2v / (1024 * 1024):.2f} MB\")\n",
    "\n",
    "# Limpiar memoria\n",
    "gc.collect()\n"
   ]
  },
  {
   "cell_type": "markdown",
   "metadata": {},
   "source": [
    "#### Conclusión de la Evaluación\n",
    "\n",
    "- **BoW** es la técnica más rápida en términos de tiempo de ejecución y requiere una cantidad moderada de memoria para procesar los documentos. Por lo tanto, es la opción más eficiente en tiempo y memoria, ideal para aplicaciones que necesitan rapidez.\n",
    "- **TF-IDF**, aunque es un poco más lento que BoW y consume algo más de memoria, ofrece un buen equilibrio entre rendimiento y precisión. Esto se debe a que calcula pesos adicionales para las palabras, lo que incrementa el tiempo de procesamiento y la memoria.\n",
    "- **Word2Vec**, a pesar de usar menos memoria, tiene un tiempo de ejecución significativamente mayor. Esto se debe a que entrena un modelo de vectores de palabras, lo que es más costoso computacionalmente. Es más lento, pero resulta más robusto y preciso, especialmente cuando se necesita capturar relaciones semánticas entre las palabras.\n"
   ]
  },
  {
   "cell_type": "markdown",
   "metadata": {},
   "source": [
    "### 2.4.  Indexación "
   ]
  },
  {
   "cell_type": "markdown",
   "metadata": {},
   "source": [
    "#### 2.4.1.  Construir un Índice invertido que mapee términos a documentos.\n",
    "#### 2.4.2.  Implementar y optimizar estructuras de datos para el Índice."
   ]
  },
  {
   "cell_type": "code",
   "execution_count": 18,
   "metadata": {},
   "outputs": [],
   "source": [
    "# Función para construir el índice invertido usando TF-IDF o Word2Vec\n",
    "def construir_indice_invertido_vectorizado(df_documentos, vectorizador, X_vectores, metodo=\"tfidf\"):\n",
    "    indice_invertido = defaultdict(list)  # Usamos listas para guardar las tuplas (doc_id, peso)\n",
    "    \n",
    "    if metodo == \"tfidf\":\n",
    "        vocabulario = vectorizador.get_feature_names_out()  # Vocabulario de los términos\n",
    "        terminos_vectores = X_vectores.toarray()  # Convertimos la matriz en un arreglo denso\n",
    "    \n",
    "        # Recorremos cada documento y su vector\n",
    "        for doc_id, vector in zip(df_documentos['doc_id'], terminos_vectores):\n",
    "            for idx, peso in enumerate(vector):\n",
    "                if peso > 0:  # Solo consideramos términos con peso positivo\n",
    "                    termino = vocabulario[idx]\n",
    "                    indice_invertido[termino].append((doc_id, peso))\n",
    "    \n",
    "    elif metodo == \"word2vec\":\n",
    "        # Asumimos que ya tenemos el modelo Word2Vec entrenado\n",
    "        model_w2v = vectorizador  # El vectorizador es el modelo Word2Vec preentrenado\n",
    "        # Función para obtener el vector promedio de los tokens\n",
    "        def obtener_vector_promedio(tokens, model):\n",
    "            vectores = [model.wv[token] for token in tokens if token in model.wv]\n",
    "            if vectores:\n",
    "                return np.mean(vectores, axis=0)\n",
    "            else:\n",
    "                return np.zeros(model.vector_size)\n",
    "        \n",
    "        # Recorremos cada documento y sus tokens\n",
    "        for doc_id, tokens in zip(df_documentos['doc_id'], df_documentos['tokens']):\n",
    "            vector_promedio = obtener_vector_promedio(tokens, model_w2v)\n",
    "            for idx, valor in enumerate(vector_promedio):\n",
    "                if valor > 0:  # Solo considerar componentes con valores significativos\n",
    "                    # Generamos una clave ficticia para un \"término\" de Word2Vec\n",
    "                    termino = f\"word2vec_{idx}\"\n",
    "                    indice_invertido[termino].append((doc_id, valor))\n",
    "    \n",
    "    return indice_invertido"
   ]
  },
  {
   "cell_type": "code",
   "execution_count": 19,
   "metadata": {},
   "outputs": [
    {
     "name": "stdout",
     "output_type": "stream",
     "text": [
      "Término: 'allevi' -> Entradas: [('training/1', 0.05310579931297368), ('training/10593', 0.03815671156087757), ('training/11120', 0.09196624403445228), ('training/11135', 0.07346262931907505), ('training/1611', 0.06661489457760199), ('training/2746', 0.12915292746571647), ('training/5717', 0.10108036147023328), ('training/5826', 0.1724274442826351), ('test/17502', 0.06388215198438789), ('test/17980', 0.05406388415324299), ('test/18009', 0.09674864327892421), ('test/18744', 0.05824995751946455), ('test/19165', 0.09357462346748145)]\n",
      "Término: 'aprilmay' -> Entradas: [('training/1', 0.054780538020712845), ('training/10615', 0.14220330563426836), ('training/12003', 0.191931096491109), ('training/12778', 0.06161325569357757), ('training/13795', 0.20242904905657647), ('training/2246', 0.09666805921787443), ('training/2760', 0.14815063231951522), ('training/4099', 0.35757154554835224), ('training/5002', 0.18977257882078807), ('training/9362', 0.19181712487038563)]\n"
     ]
    }
   ],
   "source": [
    "# Construcción del índice usando TF-IDF\n",
    "indice_invertido_tfidf = construir_indice_invertido_vectorizado(\n",
    "    df_documentos=df_documentos,\n",
    "    vectorizador=tfidf_vectorizer,\n",
    "    X_vectores=tfidf_matrix,\n",
    "    metodo=\"tfidf\"\n",
    ")\n",
    "\n",
    "# Mostrar los primeros términos del índice invertido con TF-IDF\n",
    "for i, (termino, entradas) in enumerate(indice_invertido_tfidf.items()):\n",
    "    if i >= 2:  # Mostrar solo el primer término\n",
    "        break\n",
    "    print(f\"Término: '{termino}' -> Entradas: {entradas}\")"
   ]
  },
  {
   "cell_type": "code",
   "execution_count": 20,
   "metadata": {},
   "outputs": [],
   "source": [
    "indice_invertido_w2v = construir_indice_invertido_vectorizado(\n",
    "    df_documentos=df_documentos,\n",
    "    vectorizador=model_w2v,  # El modelo Word2Vec preentrenado\n",
    "    X_vectores=None,  # No necesitamos la matriz de vectores porque usaremos tokens\n",
    "    metodo=\"word2vec\"\n",
    ")\n",
    "\n",
    "# Mostrar los primeros términos del índice invertido con Word2Vec\n",
    "# for i, (termino, entradas) in enumerate(indice_invertido_w2v.items()):\n",
    "#    if i >= 1:  # Mostrar solo el primer término\n",
    "#        break\n",
    "#    print(f\"Término (Word2Vec): '{termino}' -> Entradas: {entradas}\")"
   ]
  },
  {
   "cell_type": "markdown",
   "metadata": {},
   "source": [
    "### Interpretación\n",
    "\n",
    "Con el **Índice Invertido** cada línea de la salida muestra un término (como `'allevi'` o `'aprilmay'`) y los documentos (con identificadores y pesos como `('training/1', 0.05310579931297368)`) en los que dicho término aparece."
   ]
  },
  {
   "cell_type": "markdown",
   "metadata": {},
   "source": [
    "### 2.5. Diseño del Motor de Búsqueda"
   ]
  },
  {
   "cell_type": "markdown",
   "metadata": {},
   "source": [
    "#### 2.5.1.  Desarrollar la lógica para procesar consultas de usuarios."
   ]
  },
  {
   "cell_type": "code",
   "execution_count": 21,
   "metadata": {},
   "outputs": [],
   "source": [
    "# Función para preprocesar la consulta del usuario\n",
    "def preprocesar_consulta(consulta):\n",
    "    # 1. Limpiar el texto\n",
    "    texto_limpio = limpiar_texto(consulta)\n",
    "\n",
    "    # 2. Tokenizar el texto\n",
    "    tokens = tokenizar_texto(texto_limpio)\n",
    "\n",
    "    # 3. Eliminar stopwords\n",
    "    tokens_sin_stopwords = eliminar_stopwords(tokens, stopwords_personalizadas)\n",
    "\n",
    "    # 4. Aplicar stemming (utilizando tu función definida previamente)\n",
    "    tokens_finales = aplicar_stemming(tokens_sin_stopwords)\n",
    "\n",
    "    return tokens_finales"
   ]
  },
  {
   "cell_type": "code",
   "execution_count": 22,
   "metadata": {},
   "outputs": [
    {
     "name": "stdout",
     "output_type": "stream",
     "text": [
      "Tokens procesados de la consulta: ['bahia', 'cocoa', 'review', 'shower', 'continu', 'week']\n"
     ]
    }
   ],
   "source": [
    "# Ejemplo de consulta\n",
    "consulta_usuario = \"bahia cocoa review showers continued throughout week\"\n",
    "\n",
    "# Preprocesar la consulta\n",
    "tokens_consulta = preprocesar_consulta(consulta_usuario)\n",
    "\n",
    "print(\"Tokens procesados de la consulta:\", tokens_consulta)"
   ]
  },
  {
   "cell_type": "code",
   "execution_count": 23,
   "metadata": {},
   "outputs": [],
   "source": [
    "def obtener_vector_consulta(consulta, model):\n",
    "    # Preprocesamos la consulta\n",
    "    tokens_consulta = preprocesar_consulta(consulta)\n",
    "    return obtener_vector_promedio(tokens_consulta, model)"
   ]
  },
  {
   "cell_type": "markdown",
   "metadata": {},
   "source": [
    "#### 2.5.2. Utilizar algoritmos de similitud como similitud coseno o Jaccard."
   ]
  },
  {
   "cell_type": "markdown",
   "metadata": {},
   "source": [
    "- **TF-IDF:** Utiliza la frecuencia ponderada de los términos en los documentos. Cuando usas similitud de coseno con un índice basado en TF-IDF, lo que estás comparando es qué tan similar es un documento en relación con la consulta, tomando en cuenta la frecuencia y la importancia relativa de los términos en el corpus.\n",
    "- **Word2Vec (w2v):** Representa las palabras en un espacio vectorial continuo donde la similitud de coseno se usa para medir qué tan cerca están dos vectores semánticamente. Este enfoque es diferente de TF-IDF porque no considera las frecuencias de las palabras, sino que se centra en el contexto semántico y las relaciones entre palabras."
   ]
  },
  {
   "cell_type": "code",
   "execution_count": 25,
   "metadata": {},
   "outputs": [],
   "source": [
    "# Método para calcular similitud coseno usando TF-IDF\n",
    "def similitud_coseno_tfidf(consulta, indice_invertido_tfidf, vectorizador_tfidf):\n",
    "    # Preprocesamos la consulta\n",
    "    tokens_consulta = preprocesar_consulta(consulta)\n",
    "    texto_consulta = ' '.join(tokens_consulta)\n",
    "    \n",
    "    # Vectorizamos la consulta usando el TF-IDF\n",
    "    consulta_vectorizada = vectorizador_tfidf.transform([texto_consulta])\n",
    "    \n",
    "    # Cálculo de similitud coseno entre la consulta y los documentos\n",
    "    resultados = {}\n",
    "    for termino, entradas in indice_invertido_tfidf.items():\n",
    "        for doc_id, peso in entradas:\n",
    "            if doc_id not in resultados:\n",
    "                resultados[doc_id] = 0\n",
    "            resultados[doc_id] += peso * consulta_vectorizada[0, vectorizador_tfidf.vocabulary_.get(termino, -1)]\n",
    "    \n",
    "    # Filtramos los resultados para que solo queden aquellos con similitud mayor a cero\n",
    "    resultados_filtrados = {doc_id: similitud for doc_id, similitud in resultados.items() if similitud > 0}\n",
    "    \n",
    "    return resultados_filtrados"
   ]
  },
  {
   "cell_type": "code",
   "execution_count": 26,
   "metadata": {},
   "outputs": [
    {
     "name": "stdout",
     "output_type": "stream",
     "text": [
      "Usando la similitud coseno (TF-IDF):\n",
      "Doc ID: training/1 -> Similitud: 0.28762427861670065\n",
      "Doc ID: training/10403 -> Similitud: 0.318391507216608\n",
      "Doc ID: test/17568 -> Similitud: 0.4153869278169666\n",
      "Doc ID: test/20005 -> Similitud: 0.6549245501716716\n",
      "Doc ID: training/4470 -> Similitud: 0.08633386058071144\n"
     ]
    }
   ],
   "source": [
    "# Consulta de ejemplo\n",
    "consulta_usuario = \"cocoa\"\n",
    "\n",
    "# Similitud usando TF-IDF\n",
    "resultados_tfidf = similitud_coseno_tfidf(consulta_usuario, indice_invertido_tfidf, tfidf_vectorizer)\n",
    "print(\"Usando la similitud coseno (TF-IDF):\")\n",
    "\n",
    "# Convertimos los resultados en una lista de tuplas (doc_id, similitud) y mostramos los primeros 5\n",
    "resultados_tfidf_ordenados = list(resultados_tfidf.items())[:5]\n",
    "\n",
    "for doc_id, similitud in resultados_tfidf_ordenados:\n",
    "    print(f\"Doc ID: {doc_id} -> Similitud: {similitud}\")"
   ]
  },
  {
   "cell_type": "code",
   "execution_count": 27,
   "metadata": {},
   "outputs": [],
   "source": [
    "def obtener_resultados_similares(consulta, model, documentos_matrix, df_documentos):\n",
    "    # Vectorizamos la consulta\n",
    "    consulta_vector = obtener_vector_consulta(consulta, model)\n",
    "    \n",
    "    if consulta_vector is None:\n",
    "        return []\n",
    "\n",
    "    # Calculamos la similitud coseno entre la consulta y todos los documentos\n",
    "    similitudes = cosine_similarity([consulta_vector], documentos_matrix)\n",
    "\n",
    "    # Recopilamos los resultados (id_documento y similitud) solo si la similitud es mayor a 0\n",
    "    resultados = []\n",
    "    for idx in range(len(similitudes[0])):\n",
    "        similitud = similitudes[0][idx]\n",
    "        if similitud > 0:  # Solo añadimos los resultados con similitud mayor a 0\n",
    "            doc_id = df_documentos['doc_id'].iloc[idx]\n",
    "            resultados.append((doc_id, similitud))\n",
    "\n",
    "    return resultados"
   ]
  },
  {
   "cell_type": "code",
   "execution_count": 28,
   "metadata": {},
   "outputs": [
    {
     "name": "stdout",
     "output_type": "stream",
     "text": [
      "Resultados usando similitud coseno (Word2Vec):\n",
      "Doc ID: training/1 -> Similitud: 0.5740896633201056\n",
      "Doc ID: training/10 -> Similitud: 0.3939331074615048\n",
      "Doc ID: training/100 -> Similitud: 0.21001942471103358\n",
      "Doc ID: training/1000 -> Similitud: 0.4068646594677374\n",
      "Doc ID: training/10000 -> Similitud: 0.04211470618515366\n"
     ]
    }
   ],
   "source": [
    "# Ejemplo de consulta\n",
    "consulta_usuario = \"cocoa\"\n",
    "\n",
    "# Realizamos la consulta\n",
    "resultados_word2vec = obtener_resultados_similares(consulta_usuario, model_w2v, documentos_w2v_matrix, df_documentos)\n",
    "\n",
    "# Filtrar resultados para que solo se muestren aquellos con similitud mayor a 0\n",
    "resultados_relevantes = [(doc_id, similitud) for doc_id, similitud in resultados_word2vec if similitud > 0]\n",
    "\n",
    "# Convertir los resultados en una lista de tuplas (doc_id, similitud) y mostrar los primeros 5 sin ordenarlos\n",
    "print(\"Resultados usando similitud coseno (Word2Vec):\")\n",
    "for doc_id, similitud in resultados_relevantes[:5]:  # Mostrar solo los primeros 5 resultados\n",
    "    print(f\"Doc ID: {doc_id} -> Similitud: {similitud}\")\n"
   ]
  },
  {
   "cell_type": "markdown",
   "metadata": {},
   "source": [
    "#### 2.5.2. Desarrollar un algoritmo de ranking para ordenar los resultados."
   ]
  },
  {
   "cell_type": "code",
   "execution_count": 29,
   "metadata": {},
   "outputs": [],
   "source": [
    "def ranking_tfidf(similitudes):\n",
    "    # Ordenar por valor de similitud (descendente)\n",
    "    return sorted(similitudes.items(), key=lambda x: x[1], reverse=True)"
   ]
  },
  {
   "cell_type": "code",
   "execution_count": 30,
   "metadata": {},
   "outputs": [
    {
     "name": "stdout",
     "output_type": "stream",
     "text": [
      "Resultados ordenados usando similitud coseno (TF-IDF):\n",
      "Doc ID: training/10505 -> Similitud: 0.6810406780560854\n",
      "Doc ID: test/20005 -> Similitud: 0.6549245501716716\n",
      "Doc ID: training/5258 -> Similitud: 0.5949906381697763\n",
      "Doc ID: training/10506 -> Similitud: 0.5911783156952388\n",
      "Doc ID: training/10586 -> Similitud: 0.5906707742467144\n"
     ]
    }
   ],
   "source": [
    "# Ejemplo de consulta con TF-IDF\n",
    "consulta_usuario = \"cocoa\"\n",
    "resultados_tfidf = similitud_coseno_tfidf(consulta_usuario, indice_invertido_tfidf, tfidf_vectorizer)\n",
    "\n",
    "# Aplicamos el ranking a los resultados obtenidos\n",
    "resultados_tfidf_ranking = ranking_tfidf(resultados_tfidf)\n",
    "\n",
    "# Mostrar los resultados ordenados\n",
    "print(\"Resultados ordenados usando similitud coseno (TF-IDF):\")\n",
    "for doc_id, similitud in resultados_tfidf_ranking[:5]:  # Mostrar los primeros 5 resultados\n",
    "    print(f\"Doc ID: {doc_id} -> Similitud: {similitud}\")"
   ]
  },
  {
   "cell_type": "code",
   "execution_count": 31,
   "metadata": {},
   "outputs": [],
   "source": [
    "def ranking_w2v(similitudes):\n",
    "    # Ordenar por valor de similitud (descendente)\n",
    "    return sorted(similitudes, key=lambda x: x[1], reverse=True)"
   ]
  },
  {
   "cell_type": "code",
   "execution_count": 32,
   "metadata": {},
   "outputs": [
    {
     "name": "stdout",
     "output_type": "stream",
     "text": [
      "Resultados ordenados usando similitud coseno (Word2Vec):\n",
      "Doc ID: training/10506 -> Similitud: 0.9007171467062167\n",
      "Doc ID: test/18014 -> Similitud: 0.8990837551613204\n",
      "Doc ID: training/10471 -> Similitud: 0.8972674135706571\n",
      "Doc ID: training/10491 -> Similitud: 0.8940170018067676\n",
      "Doc ID: training/9953 -> Similitud: 0.8933179809317776\n"
     ]
    }
   ],
   "source": [
    "# Ejemplo de consulta con Word2Vec\n",
    "consulta_usuario = \"cocoa\"\n",
    "resultados_word2vec = obtener_resultados_similares(consulta_usuario, model_w2v, documentos_w2v_matrix, df_documentos)\n",
    "\n",
    "# Aplicamos el ranking a los resultados obtenidos\n",
    "resultados_word2vec_ranking = ranking_w2v(resultados_word2vec)\n",
    "\n",
    "# Mostrar los resultados ordenados\n",
    "print(\"Resultados ordenados usando similitud coseno (Word2Vec):\")\n",
    "for doc_id, similitud in resultados_word2vec_ranking[:5]:  # Mostrar los primeros 5 resultados\n",
    "    print(f\"Doc ID: {doc_id} -> Similitud: {similitud}\")"
   ]
  },
  {
   "cell_type": "markdown",
   "metadata": {},
   "source": [
    "#### Diferencias entre TF-IDF y Word2Vec\n",
    "\n",
    "**TF-IDF:** \n",
    "- Se basa en la frecuencia de las palabras dentro de los documentos y en el corpus completo.\n",
    "- Es un enfoque puramente estadístico y no considera el significado semántico de las palabras.\n",
    "- La similitud de coseno con TF-IDF mide cuánto se parecen los vectores de frecuencia/peso de las palabras entre la consulta y los documentos.\n",
    "\n",
    "**Word2Vec:** \n",
    "- Se basa en representaciones vectoriales aprendidas (embeddings) que capturan relaciones semánticas entre palabras.\n",
    "- Si palabras similares (como sinónimos o contextualmente relacionadas) aparecen en los documentos y en la consulta, Word2Vec detectará esta relación incluso si no son exactamente las mismas palabras.\n",
    "- Los vectores promedios de Word2Vec reflejan la semántica del texto más que la frecuencia.\n",
    "\n",
    "#### ¿Por qué el orden cambia?\n",
    "\n",
    "**TF-IDF:** \n",
    "- *En TF-IDF*, un documento con una palabra clave más frecuente (o con menos documentos relevantes en el corpus) tendrá una mayor similitud.\n",
    "- *En Word2Vec*, la similitud puede ser más alta para documentos que contienen palabras contextualmente relacionadas o con una mayor densidad de conceptos semánticamente relevantes."
   ]
  },
  {
   "cell_type": "markdown",
   "metadata": {},
   "source": [
    "### 2.6. Evaluación del Sistema"
   ]
  },
  {
   "cell_type": "markdown",
   "metadata": {},
   "source": [
    "#### 2.6.1.  Definir un conjunto de métricas de evaluación (precisión, recall, F1-score)."
   ]
  },
  {
   "cell_type": "markdown",
   "metadata": {},
   "source": [
    "#### Nota\n",
    "\n",
    "**TF-IDF:** \n",
    "- *Resultados*: Lista o conjunto de documentos recuperados por el sistema.\n",
    "- *Relevantes*: Lista o conjunto de documentos que son relevantes."
   ]
  },
  {
   "cell_type": "code",
   "execution_count": 33,
   "metadata": {},
   "outputs": [],
   "source": [
    "# Función para calcular métricas de evaluación\n",
    "def calcular_metricas(resultados, relevantes):\n",
    "    # Convertir resultados y relevantes a conjuntos (para evitar duplicados)\n",
    "    resultados = set(resultados)\n",
    "    relevantes = set(relevantes)\n",
    "    \n",
    "    # Calcular intersección de documentos recuperados y relevantes\n",
    "    relevantes_recuperados = resultados.intersection(relevantes)\n",
    "    \n",
    "    # Precisión\n",
    "    precision = len(relevantes_recuperados) / len(resultados) if resultados else 0\n",
    "    \n",
    "    # Recall\n",
    "    recall = len(relevantes_recuperados) / len(relevantes) if relevantes else 0\n",
    "    \n",
    "    # F1-Score\n",
    "    if precision + recall > 0:\n",
    "        f1_score = 2 * (precision * recall) / (precision + recall)\n",
    "    else:\n",
    "        f1_score = 0\n",
    "    \n",
    "    return {\n",
    "        \"precisión\": precision,\n",
    "        \"recall\": recall,\n",
    "        \"F1-score\": f1_score\n",
    "    }"
   ]
  },
  {
   "cell_type": "code",
   "execution_count": 45,
   "metadata": {},
   "outputs": [
    {
     "name": "stdout",
     "output_type": "stream",
     "text": [
      "Métricas para TF-IDF:\n",
      "precisión: 0.1667\n",
      "recall: 1.0000\n",
      "F1-score: 0.2857\n"
     ]
    }
   ],
   "source": [
    "# Definir el umbral para determinar documentos relevantes (TF-IDF)\n",
    "umbral = 0.5\n",
    "\n",
    "# Documentos relevantes basados en el umbral\n",
    "relevantes_tfidf = [doc for doc, sim in resultados_tfidf_ranking if sim > umbral]\n",
    "\n",
    "# Todos los documentos recuperados por el sistema\n",
    "resultados_tfidf = [doc for doc, sim in resultados_tfidf_ranking]\n",
    "\n",
    "# Calcular métricas\n",
    "metricas_tfidf = calcular_metricas(resultados_tfidf, relevantes_tfidf)\n",
    "\n",
    "# Mostrar métricas\n",
    "print(\"Métricas para TF-IDF:\")\n",
    "for metrica, valor in metricas_tfidf.items():\n",
    "    print(f\"{metrica}: {valor:.4f}\")"
   ]
  },
  {
   "cell_type": "code",
   "execution_count": 35,
   "metadata": {},
   "outputs": [
    {
     "name": "stdout",
     "output_type": "stream",
     "text": [
      "Métricas para Word2Vec:\n",
      "precisión: 0.1916\n",
      "recall: 1.0000\n",
      "F1-score: 0.3216\n"
     ]
    }
   ],
   "source": [
    "# Definir el umbral para determinar documentos relevantes (Word2Vec)\n",
    "umbral_w2v = 0.5\n",
    "\n",
    "# Documentos relevantes basados en el umbral\n",
    "relevantes_w2v = [doc for doc, sim in resultados_word2vec_ranking if sim > umbral_w2v]\n",
    "\n",
    "# Todos los documentos recuperados por el sistema\n",
    "resultados_w2v = [doc for doc, sim in resultados_word2vec_ranking]\n",
    "\n",
    "# Calcular métricas\n",
    "metricas_w2v = calcular_metricas(resultados_w2v, relevantes_w2v)\n",
    "\n",
    "# Mostrar métricas para Word2Vec\n",
    "print(\"Métricas para Word2Vec:\")\n",
    "for metrica, valor in metricas_w2v.items():\n",
    "    print(f\"{metrica}: {valor:.4f}\")"
   ]
  },
  {
   "cell_type": "markdown",
   "metadata": {},
   "source": [
    "#### 2.6.2.  Realizar pruebas utilizando el conjunto de prueba del corpus."
   ]
  },
  {
   "cell_type": "code",
   "execution_count": 82,
   "metadata": {},
   "outputs": [],
   "source": [
    "conjunto_consultas = [\n",
    "    \"cocoa\", \"yen\", \"zinc\", \"orange\", \"fuel\", \"potato\", \n",
    "    \"lead\", \"groundnut\", \"income\", \"nickel\", \"palladium\", \n",
    "    \"lumber\", \"jet\", \"naphtha\", \"rand\", \"coconut\", \"earn\", \n",
    "    \"gold\", \"coffee\", \"money\", \"crude\", \"sugar\", \"rice\", \n",
    "    \"reserves\", \"platinum\"\n",
    "]"
   ]
  },
  {
   "cell_type": "code",
   "execution_count": 83,
   "metadata": {},
   "outputs": [],
   "source": [
    "# Umbral de similitud\n",
    "umbral_tfidf = 0.3\n",
    "\n",
    "# Diccionario para almacenar los resultados de métricas por consulta\n",
    "metricas_por_consulta_tfidf = []\n",
    "\n",
    "# Ejemplo de procesamiento de las consultas\n",
    "for consulta in conjunto_consultas:\n",
    "    # Para TF-IDF\n",
    "    resultados_tfidf = similitud_coseno_tfidf(consulta, indice_invertido_tfidf, tfidf_vectorizer)\n",
    "    resultados_tfidf_ranking = ranking_tfidf(resultados_tfidf)\n",
    "    \n",
    "    # Definir los documentos relevantes para TF-IDF\n",
    "    relevantes_tfidf = [doc for doc, sim in resultados_tfidf_ranking if sim > umbral_tfidf] \n",
    "    resultados_tfidf = [doc for doc, sim in resultados_tfidf_ranking]\n",
    "    \n",
    "    # Calcular métricas para TF-IDF\n",
    "    metricas_tfidf = calcular_metricas(resultados_tfidf, relevantes_tfidf)\n",
    "    \n",
    "    # Guardar métricas junto con la consulta\n",
    "    metricas_por_consulta_tfidf.append({\n",
    "        \"consulta\": consulta,\n",
    "        \"precisión\": metricas_tfidf[\"precisión\"],\n",
    "        \"recall\": metricas_tfidf[\"recall\"],\n",
    "        \"F1-score\": metricas_tfidf[\"F1-score\"]\n",
    "    })"
   ]
  },
  {
   "cell_type": "code",
   "execution_count": 84,
   "metadata": {},
   "outputs": [
    {
     "name": "stdout",
     "output_type": "stream",
     "text": [
      "Métricas de búsqueda (TF-IDF)\n",
      "     consulta  precisión  recall  F1-score\n",
      "0       cocoa   0.628205     1.0  0.771654\n",
      "1         yen   0.266026     1.0  0.420253\n",
      "2        zinc   0.285714     1.0  0.444444\n",
      "3      orange   0.264706     1.0  0.418605\n",
      "4        fuel   0.062500     1.0  0.117647\n",
      "5      potato   0.250000     1.0  0.400000\n",
      "6        lead   0.012136     1.0  0.023981\n",
      "7   groundnut   0.166667     1.0  0.285714\n",
      "8      income   0.028037     1.0  0.054545\n",
      "9      nickel   0.333333     1.0  0.500000\n",
      "10  palladium   0.000000     0.0  0.000000\n",
      "11     lumber   0.217391     1.0  0.357143\n",
      "12        jet   0.187500     1.0  0.315789\n",
      "13    naphtha   0.100000     1.0  0.181818\n",
      "14       rand   0.571429     1.0  0.727273\n",
      "15    coconut   0.318182     1.0  0.482759\n",
      "16       earn   0.030086     1.0  0.058414\n",
      "17       gold   0.208889     1.0  0.345588\n",
      "18     coffee   0.490566     1.0  0.658228\n",
      "19      money   0.106640     1.0  0.192727\n",
      "20      crude   0.096210     1.0  0.175532\n",
      "21      sugar   0.442105     1.0  0.613139\n",
      "22       rice   0.233766     1.0  0.378947\n",
      "23   reserves   0.118196     1.0  0.211405\n",
      "24   platinum   0.444444     1.0  0.615385\n"
     ]
    }
   ],
   "source": [
    "# Crear un DataFrame con las métricas para el vector TF-IDF\n",
    "df_metricas_tfidf = pd.DataFrame(metricas_por_consulta_tfidf)\n",
    "\n",
    "# Mostrar el DataFrame\n",
    "print(\"Métricas de búsqueda (TF-IDF)\")\n",
    "print(df_metricas_tfidf)"
   ]
  },
  {
   "cell_type": "code",
   "execution_count": 90,
   "metadata": {},
   "outputs": [],
   "source": [
    "# Umbral de similitud para Word2Vec\n",
    "umbral_w2v = 0.8\n",
    "\n",
    "# Diccionario para almacenar los resultados de métricas por consulta para Word2Vec\n",
    "metricas_por_consulta_w2v = []\n",
    "\n",
    "# Ejemplo de procesamiento de las consultas\n",
    "for consulta in conjunto_consultas:\n",
    "    # Para Word2Vec\n",
    "    resultados_word2vec = obtener_resultados_similares(consulta, model_w2v, documentos_w2v_matrix, df_documentos)\n",
    "    resultados_word2vec_ranking = ranking_w2v(resultados_word2vec)\n",
    "    \n",
    "    # Definir los documentos relevantes para Word2Vec\n",
    "    relevantes_w2v = [doc for doc, sim in resultados_word2vec_ranking if sim > 0.5]\n",
    "    resultados_w2v = [doc for doc, sim in resultados_word2vec_ranking]\n",
    "    \n",
    "    # Calcular métricas para Word2Vec\n",
    "    metricas_w2v = calcular_metricas(resultados_w2v, relevantes_w2v)\n",
    "    \n",
    "    # Guardar métricas junto con la consulta para Word2Vec\n",
    "    metricas_por_consulta_w2v.append({\n",
    "        \"consulta\": consulta,\n",
    "        \"precisión\": metricas_w2v[\"precisión\"],\n",
    "        \"recall\": metricas_w2v[\"recall\"],\n",
    "        \"F1-score\": metricas_w2v[\"F1-score\"]\n",
    "    })"
   ]
  },
  {
   "cell_type": "code",
   "execution_count": 91,
   "metadata": {},
   "outputs": [
    {
     "name": "stdout",
     "output_type": "stream",
     "text": [
      "Métricas de búsqueda (Word2Vec)\n",
      "     consulta  precisión  recall  F1-score\n",
      "0       cocoa   0.191637     1.0  0.321636\n",
      "1         yen   0.222542     1.0  0.364064\n",
      "2        zinc   0.211073     1.0  0.348572\n",
      "3      orange   0.205528     1.0  0.340976\n",
      "4        fuel   0.239826     1.0  0.386870\n",
      "5      potato   0.251761     1.0  0.402251\n",
      "6        lead   0.235146     1.0  0.380759\n",
      "7   groundnut   0.389692     1.0  0.560832\n",
      "8      income   0.585465     1.0  0.738540\n",
      "9      nickel   0.555525     1.0  0.714260\n",
      "10  palladium   0.640341     1.0  0.780741\n",
      "11     lumber   0.425380     1.0  0.596865\n",
      "12        jet   0.574435     1.0  0.729703\n",
      "13    naphtha   0.430478     1.0  0.601866\n",
      "14       rand   0.564409     1.0  0.721562\n",
      "15    coconut   0.349740     1.0  0.518234\n",
      "16       earn   0.455507     1.0  0.625908\n",
      "17       gold   0.021384     1.0  0.041872\n",
      "18     coffee   0.167060     1.0  0.286292\n",
      "19      money   0.223088     1.0  0.364795\n",
      "20      crude   0.152883     1.0  0.265219\n",
      "21      sugar   0.184002     1.0  0.310813\n",
      "22       rice   0.249884     1.0  0.399851\n",
      "23   reserves   0.104294     1.0  0.188889\n",
      "24   platinum   0.477753     1.0  0.646594\n"
     ]
    }
   ],
   "source": [
    "# Crear un DataFrame con las métricas para el vector TF-IDF\n",
    "df_metricas_w2v = pd.DataFrame(metricas_por_consulta_w2v)\n",
    "\n",
    "# Mostrar el DataFrame\n",
    "print(\"Métricas de búsqueda (Word2Vec)\")\n",
    "print(df_metricas_w2v)"
   ]
  },
  {
   "cell_type": "markdown",
   "metadata": {},
   "source": [
    "#### 2.6.3.   Comparar el rendimiento de diferentes configuraciones del sistema."
   ]
  },
  {
   "cell_type": "code",
   "execution_count": 92,
   "metadata": {},
   "outputs": [
    {
     "data": {
      "image/png": "[encoded data removed]",
      "text/plain": [
       "<Figure size 1400x800 with 1 Axes>"
      ]
     },
     "metadata": {},
     "output_type": "display_data"
    }
   ],
   "source": [
    "# DataFrame para tener las métricas\n",
    "df_melted_tfidf = df_metricas_tfidf.melt(id_vars='consulta', value_vars=['precisión', 'recall'], var_name='metric', value_name='value')\n",
    "\n",
    "# Crear la figura\n",
    "plt.figure(figsize=(14, 8))\n",
    "\n",
    "# Crear el gráfico de barras\n",
    "sns.barplot(x='consulta', y='value', hue='metric', data=df_melted_tfidf)\n",
    "\n",
    "# Configurar el gráfico\n",
    "plt.xticks(rotation=90)  # Rotar las etiquetas del eje x para que se vean mejor\n",
    "plt.title('Recall and Precision by Query in TF-IDF')  # Título del gráfico\n",
    "plt.xlabel('Query')  # Etiqueta del eje X\n",
    "plt.ylabel('Value of the Metric')  # Etiqueta del eje Y\n",
    "\n",
    "# Mostrar el gráfico\n",
    "plt.show()"
   ]
  },
  {
   "cell_type": "code",
   "execution_count": 93,
   "metadata": {},
   "outputs": [
    {
     "data": {
      "image/png": "[encoded data removed]",
      "text/plain": [
       "<Figure size 1400x800 with 1 Axes>"
      ]
     },
     "metadata": {},
     "output_type": "display_data"
    }
   ],
   "source": [
    "# DataFrame para tener las métricas\n",
    "df_melted_w2v = df_metricas_w2v.melt(id_vars='consulta', value_vars=['precisión', 'recall'], var_name='metric', value_name='value')\n",
    "\n",
    "# Crear la figura\n",
    "plt.figure(figsize=(14, 8))\n",
    "\n",
    "# Crear el gráfico de barras\n",
    "sns.barplot(x='consulta', y='value', hue='metric', data=df_melted_w2v)\n",
    "\n",
    "# Configurar el gráfico\n",
    "plt.xticks(rotation=90)  # Rotar las etiquetas del eje x para que se vean mejor\n",
    "plt.title('Recall and Precision by Query in Word2Vec')  # Título del gráfico\n",
    "plt.xlabel('Query')  # Etiqueta del eje X\n",
    "plt.ylabel('Value of the Metric')  # Etiqueta del eje Y\n",
    "\n",
    "# Mostrar el gráfico\n",
    "plt.show()"
   ]
  },
  {
   "cell_type": "markdown",
   "metadata": {},
   "source": [
    "- **TF-IDF:**  es un método sencillo y eficiente para recuperar documentos relevantes basados en la frecuencia de palabras. Ofrece alta precisión, ya que identifica rápidamente los documentos que contienen los términos exactos de la consulta. Sin embargo, su recall y F1-score son más bajos, especialmente cuando las consultas son generales, ya que solo considera la frecuencia de términos sin tener en cuenta el contexto o sinónimos.\n",
    "\n",
    "- **Word2Vec:**  captura el significado contextual de las palabras y sus relaciones, lo que mejora el recall y F1-score al identificar documentos relevantes incluso si contienen sinónimos o términos semánticamente similares. Sin embargo, su precisión es menor en comparación con TF-IDF, ya que puede recuperar documentos irrelevantes debido a la interpretación contextual más amplia.\n",
    "\n",
    "**¿Cuál es mejor?**\n",
    "Si buscamos precisión y resultados muy específicos, TF-IDF es mejor. Si nuestra prioridad es recuperar más documentos relevantes y tener en cuenta contextos o sinónimos, Word2Vec es superior. Sin embargo, Word2Vec puede tener una precisión más baja en algunos casos. La elección depende de si preferimos precisión exacta o un mayor alcance en los resultados."
   ]
  }
 ],
 "metadata": {
  "kernelspec": {
   "display_name": "Python 3",
   "language": "python",
   "name": "python3"
  },
  "language_info": {
   "codemirror_mode": {
    "name": "ipython",
    "version": 3
   },
   "file_extension": ".py",
   "mimetype": "text/x-python",
   "name": "python",
   "nbconvert_exporter": "python",
   "pygments_lexer": "ipython3",
   "version": "3.8.10"
  }
 },
 "nbformat": 4,
 "nbformat_minor": 2
}
